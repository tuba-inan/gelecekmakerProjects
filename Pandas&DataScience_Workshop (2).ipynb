{
 "cells": [
  {
   "cell_type": "code",
   "execution_count": null,
   "metadata": {},
   "outputs": [],
   "source": [
    "import pandas as pd\n",
    "\n",
    "df=pd.read_csv('https://raw.githubusercontent.com/jlyang1990/Spark_Python_Do_Big_Data_Analytics/master/auto-data.csv')\n",
    "\n",
    "df\n",
    "\n"
   ]
  },
  {
   "cell_type": "code",
   "execution_count": null,
   "metadata": {},
   "outputs": [],
   "source": [
    "df.head()"
   ]
  },
  {
   "cell_type": "code",
   "execution_count": null,
   "metadata": {},
   "outputs": [],
   "source": [
    "df.head(10)"
   ]
  },
  {
   "cell_type": "code",
   "execution_count": null,
   "metadata": {},
   "outputs": [],
   "source": [
    "df.info()"
   ]
  },
  {
   "cell_type": "code",
   "execution_count": null,
   "metadata": {},
   "outputs": [],
   "source": [
    "df.tail(5)"
   ]
  },
  {
   "cell_type": "code",
   "execution_count": null,
   "metadata": {},
   "outputs": [],
   "source": [
    "df.sample(5)"
   ]
  },
  {
   "cell_type": "code",
   "execution_count": null,
   "metadata": {},
   "outputs": [],
   "source": [
    "df.describe()"
   ]
  },
  {
   "cell_type": "code",
   "execution_count": null,
   "metadata": {},
   "outputs": [],
   "source": [
    "print(df[\"MAKE\"].describe())"
   ]
  },
  {
   "cell_type": "code",
   "execution_count": null,
   "metadata": {},
   "outputs": [],
   "source": [
    "print(df[\"MAKE\"].describe(), df[\"BODY\"].describe())"
   ]
  },
  {
   "cell_type": "code",
   "execution_count": null,
   "metadata": {},
   "outputs": [],
   "source": [
    "df.describe(include=['O'])\n"
   ]
  },
  {
   "cell_type": "code",
   "execution_count": null,
   "metadata": {},
   "outputs": [],
   "source": [
    "df[\"MAKE\"].value_counts()"
   ]
  },
  {
   "cell_type": "code",
   "execution_count": null,
   "metadata": {},
   "outputs": [],
   "source": [
    "df[\"BODY\"].value_counts()"
   ]
  },
  {
   "cell_type": "code",
   "execution_count": null,
   "metadata": {},
   "outputs": [],
   "source": [
    "# Dataframelerdeki toplam kayıt sayısı\n",
    "\n",
    "df.size"
   ]
  },
  {
   "cell_type": "code",
   "execution_count": null,
   "metadata": {},
   "outputs": [],
   "source": [
    "# Dataframe sütun sayısı\n",
    "\n",
    "print(len(df.columns))"
   ]
  },
  {
   "cell_type": "code",
   "execution_count": null,
   "metadata": {},
   "outputs": [],
   "source": [
    "# Eksik veri var mı? \n",
    "\n",
    "df.isnull().sum()"
   ]
  },
  {
   "cell_type": "code",
   "execution_count": null,
   "metadata": {},
   "outputs": [],
   "source": [
    "df.isnull()"
   ]
  },
  {
   "cell_type": "code",
   "execution_count": null,
   "metadata": {},
   "outputs": [],
   "source": [
    "# Tekrarlanan data sayısı\n",
    "\n",
    "df.duplicated()"
   ]
  },
  {
   "cell_type": "code",
   "execution_count": null,
   "metadata": {},
   "outputs": [],
   "source": []
  },
  {
   "cell_type": "markdown",
   "metadata": {},
   "source": [
    "## Seriler \n",
    "\n",
    "## PANDAS VERİ YAPILARI\n",
    "\n"
   ]
  },
  {
   "cell_type": "code",
   "execution_count": null,
   "metadata": {},
   "outputs": [],
   "source": [
    "'''\n",
    "Pandasta veri yapıları 2 ye ayrılır.\n",
    "\n",
    "* SERİLER\n",
    "* DATA FRAME' LER\n",
    "\n",
    "Seriler; tek boyutlu Numpy dizilerine çok benzerler.\n",
    "\n",
    "Biz serileri;\n",
    "\n",
    "  * Sabit bir değerden\n",
    "  * Liste \n",
    "  * Numpy dizisinden\n",
    "  * Dictionary; sözlük tipinden oluşturabiliriz.\n",
    "\n",
    "'''"
   ]
  },
  {
   "cell_type": "code",
   "execution_count": null,
   "metadata": {},
   "outputs": [],
   "source": []
  },
  {
   "cell_type": "code",
   "execution_count": null,
   "metadata": {},
   "outputs": [],
   "source": [
    "import numpy as np\n",
    "import pandas as pd\n",
    "\n",
    "numbers = [0, 1, 2, 3, 4, 5, 6, 7, 8, 9]\n",
    "\n",
    "numpy_array = np.array(numbers)\n",
    "\n",
    "print(numpy_array)\n",
    "\n",
    "pandas_series = pd.Series(data = numbers)\n",
    "\n",
    "print(pandas_series)\n"
   ]
  },
  {
   "cell_type": "code",
   "execution_count": null,
   "metadata": {},
   "outputs": [],
   "source": [
    "import numpy as np\n",
    "import pandas as pd\n",
    "\n",
    "numbers = [0, 1, 2, 3, 4, 5, 6, 7, 8, 9]\n",
    "my_index = ['a', 'b', 'c', 'd', 'e', 'f','g', 'h', 'i', 'j']\n",
    "\n",
    "pandas_series = pd.Series(data = numbers, index = my_index)\n",
    "\n",
    "# series = pd.Series(data, index)\n",
    "\n",
    "print(pandas_series)"
   ]
  },
  {
   "cell_type": "markdown",
   "metadata": {},
   "source": [
    "### Dictionary'den bir seri oluşturalım."
   ]
  },
  {
   "cell_type": "code",
   "execution_count": null,
   "metadata": {},
   "outputs": [],
   "source": [
    "import numpy as np\n",
    "import pandas as pd\n",
    "\n",
    "numbers_dictionary = {'a':5, 'b':5, 'c':6, 'd':3, 'e':4, 'f':85 }\n",
    "\n",
    "pandas_series = pd.Series(data = numbers_dictionary)\n",
    "\n",
    "print(pandas_series)"
   ]
  },
  {
   "cell_type": "code",
   "execution_count": null,
   "metadata": {},
   "outputs": [],
   "source": [
    "import numpy as np\n",
    "import pandas as pd\n",
    "\n",
    "numbers_dictionary = {'a':5, 'b':5, 'c':6, 'd':3, 'e':4, 'f':85 }\n",
    "\n",
    "pandas_series = pd.Series(data = numbers_dictionary)\n",
    "\n",
    "print(pandas_series.ndim)\n",
    "print(pandas_series.dtype)\n",
    "print(pandas_series.shape)"
   ]
  },
  {
   "cell_type": "code",
   "execution_count": null,
   "metadata": {},
   "outputs": [],
   "source": [
    "import numpy as np\n",
    "import pandas as pd\n",
    "\n",
    "numbers = [5, 3, 2, 6, 4, 5, 6, 4, 8, 6]\n",
    "\n",
    "numpy_array = np.array(numbers)\n",
    "print(\"NUMPY DİZİSİ : \\n\", numpy_array)\n",
    "\n",
    "my_index = ['a', 'b', 'c', 'd', 'e', 'f','g', 'h', 'i', 'j']\n",
    "pandas_series = pd.Series(data = numbers, index = my_index)\n",
    "print(\"PANDAS SERİSİ:  \\n\", pandas_series)\n",
    "\n",
    "# max(), min(), median(), mean(), std()\n",
    "\n",
    "print(\"numpy sum: \", numpy_array.sum())\n",
    "print(\"numpy max: \", numpy_array.max())\n",
    "print(\"numpy min: \", numpy_array.min())\n",
    "print(\"numpy median: \", np.median(numpy_array))\n",
    "print(\"numpy mean: \", numpy_array.mean())\n",
    "print(\"numpy std: \", numpy_array.std())\n",
    "\n",
    "\n",
    "# Pandas Serilerinde; \n",
    "\n",
    "print(\"pandas sum: \", pandas_series.sum())\n",
    "print(\"pandas max: \", pandas_series.max())\n",
    "print(\"pandas min: \", pandas_series.min())\n",
    "print(\"pandas median: \", pandas_series.median())\n",
    "print(\"pandas mean: \", pandas_series.mean())\n",
    "print(\"pandas std: \", pandas_series.std())\n",
    "\n"
   ]
  },
  {
   "cell_type": "code",
   "execution_count": null,
   "metadata": {},
   "outputs": [],
   "source": [
    "# Matematiksel Hesaplar;\n",
    "\n",
    "print(numpy_array + numpy_array)\n",
    "print(numpy_array - numpy_array)\n",
    "print(numpy_array * numpy_array)\n",
    "print(np.sqrt(numpy_array))\n",
    "\n",
    "\n",
    "\n",
    "print(pandas_series + pandas_series)\n"
   ]
  },
  {
   "cell_type": "code",
   "execution_count": null,
   "metadata": {},
   "outputs": [],
   "source": [
    "# Numpy randn kullanarak bir seri oluşturalım..\n",
    "\n",
    "import numpy as np\n",
    "import pandas as pd\n",
    "from numpy.random import randn\n",
    "\n",
    "print(\" 0 ın etrafında GAUSS yöntemi ile random değer oluşturur \\n\", randn(5))\n",
    "\n",
    "print(\" 3 e 3 lük bir matris : \\n\", randn(3,3))"
   ]
  },
  {
   "cell_type": "code",
   "execution_count": null,
   "metadata": {},
   "outputs": [],
   "source": [
    "import numpy as np\n",
    "import pandas as pd\n",
    "from numpy.random import randn\n",
    "\n",
    "df = pd.DataFrame(data = randn(3,3), index=[\"A\", \"B\", \"C\"], \n",
    "                  columns=['Kolon1', 'Kolon2', 'Kolon3'])\n",
    "\n",
    "df"
   ]
  },
  {
   "cell_type": "markdown",
   "metadata": {},
   "source": [
    "# IMDB Film Analiz"
   ]
  },
  {
   "cell_type": "code",
   "execution_count": null,
   "metadata": {},
   "outputs": [],
   "source": [
    "import pandas as pd\n",
    "\n",
    "df = pd.read_csv(\"imdb.csv\")\n",
    "\n",
    "df"
   ]
  },
  {
   "cell_type": "code",
   "execution_count": null,
   "metadata": {},
   "outputs": [],
   "source": [
    "import pandas as pd\n",
    "\n",
    "df = pd.read_csv(\"imdb.csv\")\n",
    "\n",
    "df.head(10)"
   ]
  },
  {
   "cell_type": "code",
   "execution_count": null,
   "metadata": {},
   "outputs": [],
   "source": [
    "import pandas as pd\n",
    "\n",
    "df = pd.read_csv(\"imdb.csv\")\n",
    "\n",
    "result = df.columns\n",
    "\n",
    "result"
   ]
  },
  {
   "cell_type": "code",
   "execution_count": null,
   "metadata": {},
   "outputs": [],
   "source": [
    "# info genel bilgi\n",
    "import pandas as pd\n",
    "\n",
    "df = pd.read_csv(\"imdb.csv\")\n",
    "\n",
    "df.info()"
   ]
  },
  {
   "cell_type": "code",
   "execution_count": null,
   "metadata": {},
   "outputs": [],
   "source": [
    "import pandas as pd\n",
    "\n",
    "df = pd.read_csv(\"imdb.csv\")\n",
    "\n",
    "df.tail(5)"
   ]
  },
  {
   "cell_type": "code",
   "execution_count": null,
   "metadata": {},
   "outputs": [],
   "source": [
    "import pandas as pd\n",
    "\n",
    "df = pd.read_csv(\"imdb.csv\")\n",
    "\n",
    "df.sample(10)"
   ]
  },
  {
   "cell_type": "code",
   "execution_count": null,
   "metadata": {},
   "outputs": [],
   "source": [
    "# 10 sample kayıt gelsin ama sadece \"Movie_Title\" kolonu-sütunu gelsin..\n",
    "\n",
    "import pandas as pd\n",
    "\n",
    "df = pd.read_csv(\"imdb.csv\")\n",
    "\n",
    "df[\"Movie_Title\"].sample(10)\n",
    "\n"
   ]
  },
  {
   "cell_type": "code",
   "execution_count": null,
   "metadata": {},
   "outputs": [],
   "source": [
    "import pandas as pd\n",
    "\n",
    "df = pd.read_csv(\"imdb.csv\")\n",
    "\n",
    "result = df[[\"Movie_Title\", \"YR_Released\"]].sample(10)\n",
    "\n",
    "result"
   ]
  },
  {
   "cell_type": "code",
   "execution_count": null,
   "metadata": {},
   "outputs": [],
   "source": [
    "# Son 15 kayıt gelsin ve Movie_Title ve YR_Rel. kolonları olsun..\n",
    "import pandas as pd\n",
    "\n",
    "df = pd.read_csv(\"imdb.csv\")\n",
    "\n",
    "result = df[[\"Movie_Title\", \"YR_Released\"]].tail(15)\n",
    "\n",
    "result"
   ]
  },
  {
   "cell_type": "code",
   "execution_count": null,
   "metadata": {},
   "outputs": [],
   "source": [
    "# Movie_Title ve YR_Rel. kolonları olsun..Ama 5. satırdan 15. satıra kadar olsun.\n",
    "import pandas as pd\n",
    "\n",
    "df = pd.read_csv(\"imdb.csv\")\n",
    "\n",
    "result = df[5:15:2][[\"Movie_Title\", \"YR_Released\"]].head(100)\n",
    "\n",
    "result"
   ]
  },
  {
   "cell_type": "code",
   "execution_count": null,
   "metadata": {},
   "outputs": [],
   "source": [
    "# imdb puanı 9 ve üstü olan filmler nelerdir?\n",
    "\n",
    "import pandas as pd\n",
    "\n",
    "df = pd.read_csv(\"imdb.csv\")\n",
    "\n",
    "\n",
    "result = df[df.Rating >= 9.0 ]\n",
    "\n",
    "result"
   ]
  },
  {
   "cell_type": "code",
   "execution_count": null,
   "metadata": {},
   "outputs": [],
   "source": [
    "# imdb puanı 9 ve üstü olan filmler nelerdir?(FARKLI BİR GÖSTERİM )\n",
    "\n",
    "import pandas as pd\n",
    "\n",
    "df = pd.read_csv(\"imdb.csv\")\n",
    "\n",
    "\n",
    "result = df[df[\"Rating\"] >= 9.0 ]\n",
    "\n",
    "result"
   ]
  },
  {
   "cell_type": "code",
   "execution_count": null,
   "metadata": {},
   "outputs": [],
   "source": [
    "# Movie_Title ve Rating kolonlarını içeren ve imdb puanı 8.0 üstü olan \n",
    "# kayıtlardan ilk 10 tanesini listeleyiniz...\n",
    "\n",
    "import pandas as pd\n",
    "\n",
    "df = pd.read_csv(\"imdb.csv\")\n",
    "\n",
    "result = df[df.Rating > 8.0][[\"Movie_Title\", \"Rating\"]].head(10)\n",
    "\n",
    "result"
   ]
  },
  {
   "cell_type": "code",
   "execution_count": null,
   "metadata": {},
   "outputs": [],
   "source": [
    "\n",
    "import pandas as pd\n",
    "\n",
    "df = pd.read_csv(\"imdb.csv\")\n",
    "\n",
    "result = df[df.Rating < 5.0][[\"Movie_Title\", \"Rating\", \"YR_Released\"]].sample(10)\n",
    "\n",
    "result"
   ]
  },
  {
   "cell_type": "code",
   "execution_count": null,
   "metadata": {},
   "outputs": [],
   "source": [
    "# Yayın tarihi 2014 ve sonrası filmlerden karışık olarak 20 tane getiriniz.\n",
    "\n",
    "import pandas as pd\n",
    "\n",
    "df = pd.read_csv(\"imdb.csv\")\n",
    "\n",
    "result = df[df.YR_Released >= 2014].sample(10)\n",
    "\n",
    "result"
   ]
  },
  {
   "cell_type": "code",
   "execution_count": null,
   "metadata": {},
   "outputs": [],
   "source": [
    "# Yayın tarihi 2015 ile 2018 arasındaki filmleri listeleyelim..\n",
    "\n",
    "import pandas as pd\n",
    "\n",
    "df = pd.read_csv(\"imdb.csv\")\n",
    "\n",
    "result = df[ (df.YR_Released >=2015) &  (df.YR_Released <=2018) ]\n",
    "\n",
    "result\n"
   ]
  },
  {
   "cell_type": "code",
   "execution_count": null,
   "metadata": {},
   "outputs": [],
   "source": [
    "# Yayın tarihi 2000 ile 2004 arasında olan filimlerin Movie_Title, YR_Released, \n",
    "# Rating kolonlarını belirterek listeleyiniz.\n",
    "\n",
    "import pandas as pd\n",
    "\n",
    "df = pd.read_csv(\"imdb.csv\")\n",
    "\n",
    "result = df[ (df.YR_Released >=2000) &  (df.YR_Released <=2004) ][[\"Movie_Title\", \"YR_Released\", \"Rating\"]]\n",
    "\n",
    "result\n"
   ]
  },
  {
   "cell_type": "code",
   "execution_count": null,
   "metadata": {},
   "outputs": [],
   "source": [
    "# Review sayısı 100000 den büyük yada (veya) imdb puanı 7 ile 8 arasında\n",
    "# olan kayıtları listeleyiniz.\n",
    "\n"
   ]
  },
  {
   "cell_type": "markdown",
   "metadata": {},
   "source": [
    "# YOUTUBE ANALİZİ"
   ]
  },
  {
   "cell_type": "code",
   "execution_count": null,
   "metadata": {},
   "outputs": [],
   "source": [
    "import pandas as pd\n",
    "\n",
    "df = pd.read_csv(\"Verisetleri/youtube-ing.csv\")\n",
    "\n",
    "df"
   ]
  },
  {
   "cell_type": "code",
   "execution_count": null,
   "metadata": {},
   "outputs": [],
   "source": [
    "# 10 ile 50 arasındaki youtube kayıtları getirelim..\n",
    "\n",
    "import pandas as pd\n",
    "\n",
    "df = pd.read_csv(\"Verisetleri/youtube-ing.csv\")\n",
    "\n",
    "result = df[10:20:].head(3)\n",
    "\n",
    "result"
   ]
  },
  {
   "cell_type": "code",
   "execution_count": null,
   "metadata": {},
   "outputs": [],
   "source": [
    "# Kolon isimlerini listeleyiniz..\n",
    "\n",
    "import pandas as pd\n",
    "\n",
    "df = pd.read_csv(\"Verisetleri/youtube-ing.csv\")\n",
    "\n",
    "result = df.columns\n",
    "\n",
    "result"
   ]
  },
  {
   "cell_type": "code",
   "execution_count": null,
   "metadata": {},
   "outputs": [],
   "source": [
    "# Kolon adedini bulunuz;\n",
    "\n",
    "import pandas as pd\n",
    "\n",
    "df = pd.read_csv(\"Verisetleri/youtube-ing.csv\")\n",
    "\n",
    "adet = len(df.columns)\n",
    "\n",
    "print(\"Kolon adedi:\", adet)"
   ]
  },
  {
   "cell_type": "code",
   "execution_count": null,
   "metadata": {},
   "outputs": [],
   "source": [
    "# Dataset hakkında genel bilgi komutu info\n",
    "import pandas as pd\n",
    "\n",
    "df = pd.read_csv(\"Verisetleri/youtube-ing.csv\")\n",
    "\n",
    "result = df.info()"
   ]
  },
  {
   "cell_type": "code",
   "execution_count": null,
   "metadata": {},
   "outputs": [],
   "source": [
    "# drop komutu ile.\n",
    "\n",
    "# thumbnail_link, comments_disabled, ratings_disabled, video_error_or_removed, description\n",
    "\n",
    "import pandas as pd\n",
    "\n",
    "df = pd.read_csv(\"Verisetleri/youtube-ing.csv\")\n",
    "\n",
    "\n",
    "df = df.drop([\"thumbnail_link\", \"comments_disabled\",\"ratings_disabled\", \n",
    "              \"video_error_or_removed\",\"description\"], axis = 1 )\n",
    "\n",
    "df.head(3)\n"
   ]
  },
  {
   "cell_type": "code",
   "execution_count": null,
   "metadata": {},
   "outputs": [],
   "source": [
    "# veri setindeki silinen kolonların tam olarak commitlenmesi, yani işlenmesi için\n",
    "# inplace parametresi kullanılır.\n",
    "\n",
    "\n",
    "import pandas as pd\n",
    "\n",
    "df = pd.read_csv(\"Verisetleri/youtube-ing.csv\")\n",
    "\n",
    "\n",
    "df.drop([\"thumbnail_link\", \"comments_disabled\",\"ratings_disabled\", \n",
    "              \"video_error_or_removed\",\"description\"], axis = 1, inplace=True)\n",
    "\n",
    "result = df\n",
    "\n",
    "result"
   ]
  },
  {
   "cell_type": "code",
   "execution_count": null,
   "metadata": {},
   "outputs": [],
   "source": [
    "# Bu dataset değişti..\n",
    "\n",
    "# Bu güncellenen dataset içinde like ve dislike ortalamalarını bulunuz;\n",
    "\n",
    "\n",
    "result = df[\"likes\"].mean()\n",
    "\n",
    "print(\"Likes ortalaması:\", result )\n",
    "\n",
    "result2 = df[\"dislikes\"].mean()\n",
    "\n",
    "print(\"dislikes ortalaması:\", result2 )\n"
   ]
  },
  {
   "cell_type": "code",
   "execution_count": null,
   "metadata": {},
   "outputs": [],
   "source": [
    "# ilk 10 satırın title, like ve dislike kolonunu getirin.\n",
    "\n",
    "result = df.head(10)[[\"title\", \"likes\", \"dislikes\"]]\n",
    "\n",
    "result\n"
   ]
  },
  {
   "cell_type": "code",
   "execution_count": null,
   "metadata": {},
   "outputs": [],
   "source": [
    "# En çok görüntülenen video ne kadar görüntülenmiştir?\n",
    "\n",
    "result = df[\"views\"].max()\n",
    "\n",
    "result "
   ]
  },
  {
   "cell_type": "code",
   "execution_count": null,
   "metadata": {},
   "outputs": [],
   "source": [
    "# Bu video hangi videodur?\n",
    "\n",
    "result = df[(df[\"views\"].max()) == df[\"views\"]]\n",
    "\n",
    "result\n"
   ]
  },
  {
   "cell_type": "code",
   "execution_count": null,
   "metadata": {},
   "outputs": [],
   "source": [
    "# En düşük izlenenen video?\n",
    "\n",
    "x = df[\"views\"].min()\n",
    "\n",
    "result = df[ x == df[\"views\"]]\n",
    "\n",
    "result\n"
   ]
  },
  {
   "cell_type": "code",
   "execution_count": null,
   "metadata": {},
   "outputs": [],
   "source": [
    "# En düşük ve en fazla görüntülenen videoların sadece title ve views kolonlarını getiriniz;\n",
    "\n",
    "\n",
    "result = df[(df[\"views\"].max()) == df[\"views\"]][[\"title\", \"views\"]]\n",
    "\n",
    "print(result)\n",
    "\n",
    "result = df[(df[\"views\"].min()) == df[\"views\"]][[\"title\", \"views\"]]\n",
    "\n",
    "print(result)"
   ]
  },
  {
   "cell_type": "code",
   "execution_count": null,
   "metadata": {},
   "outputs": [],
   "source": [
    "# En fazla görüntülenen videonun sadece title kolonunu getirin.\n",
    "\n",
    "result = df[(df[\"views\"].max()) == df[\"views\"]][\"title\"].iloc[0]\n",
    "\n",
    "result"
   ]
  },
  {
   "cell_type": "code",
   "execution_count": null,
   "metadata": {},
   "outputs": [],
   "source": []
  },
  {
   "cell_type": "code",
   "execution_count": null,
   "metadata": {},
   "outputs": [],
   "source": [
    "# En fazla görüntülenen videonun title, views, likes, dislikes'ını getiriniz.\n",
    "\n",
    "result = df[(df[\"views\"].max()) == df[\"views\"]][[\"title\", \"views\", \"likes\", \"dislikes\"]].iloc[0]\n",
    "\n",
    "result\n"
   ]
  },
  {
   "cell_type": "code",
   "execution_count": null,
   "metadata": {},
   "outputs": [],
   "source": []
  },
  {
   "cell_type": "markdown",
   "metadata": {},
   "source": [
    "# WEB SİTELERİNDEN BİLGİ ÇEKİP ANALİZ ETMEK"
   ]
  },
  {
   "cell_type": "code",
   "execution_count": null,
   "metadata": {},
   "outputs": [],
   "source": [
    "import requests\n",
    "from bs4 import BeautifulSoup\n",
    "\n",
    "glassdor = requests.get(\"https://www.glassdoor.com/List/Best-Jobs-in-America-LST_KQ0,20.htm\")\n",
    "\n",
    "glassdor \n"
   ]
  },
  {
   "cell_type": "code",
   "execution_count": null,
   "metadata": {},
   "outputs": [],
   "source": [
    "# User Agent ile internet sitesine bağlanalım;\n",
    "\n",
    "import requests\n",
    "from bs4 import BeautifulSoup\n",
    "\n",
    "user_p = {\"User-Agent\": \"Mozilla/5.0 (Windows NT 10.0; Win64; x64) AppleWebKit/537.36 (KHTML, like Gecko) Chrome/88.0.4324.150 Safari/537.36\"}\n",
    "glassdor = requests.get(\"https://www.glassdoor.com/List/Best-Jobs-in-America-LST_KQ0,20.htm\", headers = user_p)\n",
    "\n",
    "glassdor "
   ]
  },
  {
   "cell_type": "code",
   "execution_count": null,
   "metadata": {},
   "outputs": [],
   "source": [
    "print(glassdor.content)"
   ]
  },
  {
   "cell_type": "code",
   "execution_count": null,
   "metadata": {},
   "outputs": [],
   "source": [
    "# User Agent ile internet sitesine bağlanalım;\n",
    "\n",
    "import requests\n",
    "from bs4 import BeautifulSoup\n",
    "\n",
    "user_p = {\"User-Agent\": \"Mozilla/5.0 (Windows NT 10.0; Win64; x64) AppleWebKit/537.36 (KHTML, like Gecko) Chrome/88.0.4324.150 Safari/537.36\"}\n",
    "glassdor = requests.get(\"https://www.glassdoor.com/List/Best-Jobs-in-America-LST_KQ0,20.htm\", headers = user_p)\n",
    "\n",
    "\n",
    "jobs = glassdor.content\n",
    "\n",
    "soup = BeautifulSoup(jobs, \"html.parser\" )\n",
    "\n",
    "print(soup.find(\"h1\").text)"
   ]
  },
  {
   "cell_type": "code",
   "execution_count": null,
   "metadata": {},
   "outputs": [],
   "source": [
    "print(soup.find_all(\"div\"))"
   ]
  },
  {
   "cell_type": "code",
   "execution_count": null,
   "metadata": {},
   "outputs": [],
   "source": [
    "print(soup.find_all(\"a\"))"
   ]
  },
  {
   "cell_type": "code",
   "execution_count": null,
   "metadata": {},
   "outputs": [],
   "source": [
    "print(soup.find_all(\"p\"))"
   ]
  },
  {
   "cell_type": "code",
   "execution_count": null,
   "metadata": {},
   "outputs": [],
   "source": [
    "all_jobs = soup.find_all(\"p\", {\"class\": \"h2 m-0 entryWinner pb-std pb-md-0\"})\n",
    "\n",
    "for job in all_jobs:\n",
    "    print(job.a.text)\n",
    "\n"
   ]
  },
  {
   "cell_type": "code",
   "execution_count": null,
   "metadata": {},
   "outputs": [],
   "source": [
    "all_jobs = soup.find_all(\"div\", {\"class\": \"col-6 col-lg-4 dataPoint\"})\n",
    "\n",
    "for job in all_jobs:\n",
    "    print(job.text)"
   ]
  },
  {
   "cell_type": "code",
   "execution_count": null,
   "metadata": {},
   "outputs": [],
   "source": []
  },
  {
   "cell_type": "markdown",
   "metadata": {},
   "source": [
    "# Başka Veri Kaynaklarından Veri Okuma.."
   ]
  },
  {
   "cell_type": "code",
   "execution_count": null,
   "metadata": {},
   "outputs": [],
   "source": [
    "import pandas as pd\n",
    "\n",
    "df = pd.read_excel(\"gsoz.xlsx\")\n",
    "\n",
    "df\n"
   ]
  },
  {
   "cell_type": "code",
   "execution_count": null,
   "metadata": {},
   "outputs": [],
   "source": [
    "import pandas as pd\n",
    "\n",
    "df = pd.read_json('Musteri_Tablosu.json')\n",
    "\n",
    "df"
   ]
  },
  {
   "cell_type": "code",
   "execution_count": null,
   "metadata": {},
   "outputs": [],
   "source": []
  },
  {
   "cell_type": "markdown",
   "metadata": {},
   "source": [
    "# Pandas ile SQLite'dan Veri Alma"
   ]
  },
  {
   "cell_type": "code",
   "execution_count": null,
   "metadata": {},
   "outputs": [],
   "source": [
    "import sqlite3\n",
    "import pandas as pd\n",
    "\n",
    "connection = sqlite3.connect(\"E:\\Project\\WebSite\\GelecekMaker\\VeritabanıEğitimleri\\Winup_db.db\")\n",
    "\n",
    "df = pd.read_sql_query(\"SELECT * FROM Musteri_Tablosu WHERE cinsiyet='Male'\", connection)\n",
    "\n",
    "df\n"
   ]
  },
  {
   "cell_type": "code",
   "execution_count": null,
   "metadata": {},
   "outputs": [],
   "source": []
  },
  {
   "cell_type": "markdown",
   "metadata": {},
   "source": [
    "# REGRESYON ANALİZLERİ\n",
    "\n",
    "## Basit Lineer Regresyon \n",
    "\n",
    "### Örnek 1: REKLAM HARCAMALARININ SATIŞLARA ETKİSİ"
   ]
  },
  {
   "cell_type": "code",
   "execution_count": null,
   "metadata": {},
   "outputs": [],
   "source": [
    "import pandas as pd\n",
    "df = pd.read_csv(\"Verisetleri\\Advertising.csv\")\n",
    "\n",
    "df\n"
   ]
  },
  {
   "cell_type": "code",
   "execution_count": null,
   "metadata": {},
   "outputs": [],
   "source": [
    "import pandas as pd\n",
    "df = pd.read_csv(\"Verisetleri\\Advertising.csv\")\n",
    "\n",
    "df = df.iloc[:, 1:5]\n",
    "\n",
    "df.head()"
   ]
  },
  {
   "cell_type": "code",
   "execution_count": null,
   "metadata": {},
   "outputs": [],
   "source": [
    "# TV harcamaları ile satışlar arasında bir ilişki var mı? Bunun için Seaborn kütüphanesini kullanalım.\n",
    "\n",
    "import seaborn as sns\n",
    "sns.jointplot(x=\"TV\", y=\"sales\", data=df, kind=\"reg\")  # x: bağımsız değişken, y: bağımlı değişken.. reg:regresyon grf.\n",
    "\n"
   ]
  },
  {
   "cell_type": "code",
   "execution_count": null,
   "metadata": {},
   "outputs": [],
   "source": [
    "# Radio etkisi\n",
    "import seaborn as sns\n",
    "sns.jointplot(x=\"radio\", y=\"sales\", data=df, kind=\"reg\") "
   ]
  },
  {
   "cell_type": "code",
   "execution_count": null,
   "metadata": {},
   "outputs": [],
   "source": [
    "import seaborn as sns\n",
    "sns.jointplot(x=\"newspaper\", y=\"sales\", data=df, kind=\"reg\")"
   ]
  },
  {
   "cell_type": "code",
   "execution_count": null,
   "metadata": {},
   "outputs": [],
   "source": [
    "# MODELLEME; \n",
    "\n",
    "from sklearn.linear_model import LinearRegression\n",
    "\n",
    "#veri setinin içindeki bağımsız değişkeni X, bağımlı değişkeni y ile ifade edeceğiz.\n",
    "\n",
    "X = df[[\"TV\"]]\n",
    "\n",
    "y = df[[\"sales\"]]\n",
    "\n",
    "\n"
   ]
  },
  {
   "cell_type": "code",
   "execution_count": null,
   "metadata": {},
   "outputs": [],
   "source": [
    "# ŞİMDİ BİR TANE MODEL NESNESİ OLUŞTURACAĞIZ.\n",
    "\n",
    "reg = LinearRegression() # reg isminde bir obje oluşturduk.\n",
    "\n",
    "model = reg.fit(X, y) #fit dediğimizde modeli kur demiş oluyoruz. \n",
    "\n",
    "model"
   ]
  },
  {
   "cell_type": "code",
   "execution_count": null,
   "metadata": {},
   "outputs": [],
   "source": [
    "dir(model)"
   ]
  },
  {
   "cell_type": "code",
   "execution_count": null,
   "metadata": {},
   "outputs": [],
   "source": [
    "model.intercept_"
   ]
  },
  {
   "cell_type": "code",
   "execution_count": null,
   "metadata": {},
   "outputs": [],
   "source": [
    "model.coef_"
   ]
  },
  {
   "cell_type": "code",
   "execution_count": null,
   "metadata": {},
   "outputs": [],
   "source": [
    "# X değişkenimiz modelimizi hangi oranda doğru ifade ediyor?\n",
    "\n",
    "model.score(X, y)"
   ]
  },
  {
   "cell_type": "markdown",
   "metadata": {},
   "source": [
    "### Şimdi TV Modeli üzerinden tahmin-prediction yapalım;\n"
   ]
  },
  {
   "cell_type": "code",
   "execution_count": null,
   "metadata": {},
   "outputs": [],
   "source": [
    "from sklearn.linear_model import LinearRegression\n",
    "\n",
    "X = df[[\"TV\"]] # Bağımsız değişkeni atadık.\n",
    "y = df[[\"sales\"]] # Bağımlı değişkeni atadık.\n",
    "\n",
    "reg = LinearRegression() # model nesnesi oluşturduk.\n",
    "model = reg.fit(X, y) # modeli fit ettik.\n",
    "\n",
    "import seaborn as sns\n",
    "import matplotlib.pyplot as plt\n",
    "\n",
    "grafik = sns.regplot(df[\"TV\"], df[\"sales\"], ci=None, scatter_kws={\"color\": \"r\", \"s\":9})\n",
    "\n",
    "grafik.set_title(\"Modelin formülü: Sales = 7.03 + TV * 0.05\")\n",
    "grafik.set_ylabel(\"Satış Rakamları\")\n",
    "grafik.set_xlabel(\"TV harcamaları\")\n",
    "\n"
   ]
  },
  {
   "cell_type": "code",
   "execution_count": null,
   "metadata": {},
   "outputs": [],
   "source": [
    "model.predict([[285]])"
   ]
  },
  {
   "cell_type": "markdown",
   "metadata": {},
   "source": [
    "## UYGULAMA -Basit Lineer Regresyon-Ev fiyat tahmini\n"
   ]
  },
  {
   "cell_type": "code",
   "execution_count": null,
   "metadata": {},
   "outputs": [],
   "source": [
    "import pandas as pd\n",
    "import numpy as np\n",
    "import matplotlib.pyplot as plt\n",
    "import seaborn as sns\n",
    "from sklearn.linear_model import LinearRegression\n",
    "\n"
   ]
  },
  {
   "cell_type": "code",
   "execution_count": null,
   "metadata": {},
   "outputs": [],
   "source": [
    "df = pd.read_csv(\"Verisetleri\\ev_fiyat_tahmini.csv\", sep=\";\")\n",
    "\n",
    "df.head(15)"
   ]
  },
  {
   "cell_type": "code",
   "execution_count": null,
   "metadata": {},
   "outputs": [],
   "source": [
    "df.shape"
   ]
  },
  {
   "cell_type": "code",
   "execution_count": null,
   "metadata": {},
   "outputs": [],
   "source": [
    "df.info()"
   ]
  },
  {
   "cell_type": "code",
   "execution_count": null,
   "metadata": {},
   "outputs": [],
   "source": [
    "df.info()"
   ]
  },
  {
   "cell_type": "code",
   "execution_count": null,
   "metadata": {},
   "outputs": [],
   "source": [
    "# metrekare ile fiyatların dağılım grafiğine bakalım..\n",
    "\n",
    "X = df[\"MetreKare\"]\n",
    "y = df[\"fiyatlar\"]\n"
   ]
  },
  {
   "cell_type": "code",
   "execution_count": null,
   "metadata": {},
   "outputs": [],
   "source": [
    "# Veriyi görselleştirelim;\n",
    "plt.scatter(X, y)\n",
    "plt.xlabel(\"MetreKare\")\n",
    "plt.ylabel(\"Fiyat\")\n",
    "plt.show()"
   ]
  },
  {
   "cell_type": "code",
   "execution_count": null,
   "metadata": {},
   "outputs": [],
   "source": [
    "# Bu korelasyon grafiğini bir de seaborn ile yapalım;\n",
    "\n",
    "import seaborn as sns\n",
    "sns.jointplot(x = \"MetreKare\", y=\"fiyatlar\", data = df, kind=\"reg\") # x =bağımsız değişken\n",
    "                                                                # y bağımlı deği. ref: regression\n",
    "    \n",
    "    "
   ]
  },
  {
   "cell_type": "code",
   "execution_count": null,
   "metadata": {},
   "outputs": [],
   "source": [
    "# Lineer Regresyon için Sklearn içinden LinearRegression import etmemiz gerekiyor.\n",
    "\n",
    "from sklearn.linear_model import LinearRegression\n",
    "\n",
    "X = df[[\"MetreKare\"]]\n",
    "y = df[[\"fiyatlar\"]]\n",
    "\n"
   ]
  },
  {
   "cell_type": "code",
   "execution_count": null,
   "metadata": {},
   "outputs": [],
   "source": [
    "# Şimdi bir model nesnesi oluşturalım;\n",
    "\n",
    "reg = LinearRegression() # reg isminde bir obje-nesne oluşturduk.\n",
    "\n",
    "model = reg.fit(X, y) # modeli kuruyoruz. Yani fit ediyoruz.\n",
    "\n",
    "model\n"
   ]
  },
  {
   "cell_type": "code",
   "execution_count": null,
   "metadata": {},
   "outputs": [],
   "source": [
    "dir(model)"
   ]
  },
  {
   "cell_type": "code",
   "execution_count": null,
   "metadata": {},
   "outputs": [],
   "source": [
    "model.intercept_"
   ]
  },
  {
   "cell_type": "code",
   "execution_count": null,
   "metadata": {},
   "outputs": [],
   "source": [
    "model.coef_"
   ]
  },
  {
   "cell_type": "code",
   "execution_count": null,
   "metadata": {},
   "outputs": [],
   "source": [
    "model.score(X,y) # bağımsız değişkenin, bağımlı değişkeni açıklama yüzdesi.."
   ]
  },
  {
   "cell_type": "code",
   "execution_count": null,
   "metadata": {},
   "outputs": [],
   "source": [
    "# PREDICTION -TAHMİN..\n",
    "# Lineer Regresyon için Sklearn içinden LinearRegression import etmemiz gerekiyor.\n",
    "\n",
    "from sklearn.linear_model import LinearRegression\n",
    "\n",
    "X = df[[\"MetreKare\"]] # Bağımsız veriler X bağımsız değişkenine aktarılır.\n",
    "y = df[[\"fiyatlar\"]] # Bağımlı değişken kolonu y değişkenine aktarılıyor.\n",
    "\n",
    "# nesne - Obje oluşturma işlemi\n",
    "reg = LinearRegression()\n",
    "model = reg.fit(X, y) # Modeli fit et. Yani modeli kur.\n",
    "\n",
    "# Tahmin kısmına geçebiliriz.\n",
    "\n",
    "import seaborn as sns\n",
    "import matplotlib.pyplot as plt\n",
    "\n",
    "grafik = sns.regplot(df[\"MetreKare\"], df[\"fiyatlar\"], ci=None, scatter_kws={\"color\":\"r\", \"s\": 9})\n",
    "\n",
    "grafik.set_title(\"Modelin Denklemi: fiyatlar = 70788.3 + 890.78 * MetreKare \")\n",
    "grafik.set_ylabel(\"fiyatlar\")\n",
    "grafik.set_xlabel(\"MetreKare\")\n",
    "plt.xlim(20, 300) # -10 ile 310 arasında olacak şekilde x ayarlanıyor.\n",
    "plt.ylim(bottom=0) # y nin başlangıç noktasını 0 yapıyoruz.\n",
    "\n",
    "print(\"Tahmin:\", model.predict([[110]]) )\n"
   ]
  },
  {
   "cell_type": "code",
   "execution_count": null,
   "metadata": {},
   "outputs": [],
   "source": [
    "# 168.774 Hesap makinesi ile bulunan tahmin. 110 metrekare için.\n"
   ]
  },
  {
   "cell_type": "code",
   "execution_count": null,
   "metadata": {},
   "outputs": [],
   "source": [
    "model.predict([[110]])"
   ]
  },
  {
   "cell_type": "code",
   "execution_count": null,
   "metadata": {},
   "outputs": [],
   "source": [
    "model.predict([[500]])"
   ]
  },
  {
   "cell_type": "code",
   "execution_count": null,
   "metadata": {},
   "outputs": [],
   "source": [
    "model.predict([[100], [250], [300]])"
   ]
  },
  {
   "cell_type": "code",
   "execution_count": null,
   "metadata": {},
   "outputs": [],
   "source": []
  },
  {
   "cell_type": "markdown",
   "metadata": {},
   "source": [
    "# EKSİK VERİLER\n",
    "\n",
    "## Eksik Veriler İçin Yaklaşımlar;\n",
    "\n",
    "1. EKSİK VERİLERİ GÖZ ARDI ET.\n",
    "2. ELLE DOLDURULABİLİR. MANUEL OLARAK DATA EKLENEBİLİR.\n",
    "3. MEAN, MODE, INTERPLOSYON.. ..."
   ]
  },
  {
   "cell_type": "markdown",
   "metadata": {},
   "source": [
    "### Python'da Eksik Veri İşlemleri\n",
    "\n",
    "* None : Verinin olmadığını gösterir.\n",
    "* NaN : Not a number. Verinin eksik olduğunu gösterir."
   ]
  },
  {
   "cell_type": "code",
   "execution_count": null,
   "metadata": {},
   "outputs": [],
   "source": [
    "import numpy as np\n",
    "import pandas as pd\n"
   ]
  },
  {
   "cell_type": "code",
   "execution_count": null,
   "metadata": {},
   "outputs": [],
   "source": [
    "type(None)"
   ]
  },
  {
   "cell_type": "code",
   "execution_count": null,
   "metadata": {},
   "outputs": [],
   "source": [
    "type(np.nan)"
   ]
  },
  {
   "cell_type": "code",
   "execution_count": null,
   "metadata": {},
   "outputs": [],
   "source": [
    "# Örnek bir veri seti oluşturalım..\n",
    "\n",
    "missing_data = pd.Series(data=np.array([None, np.nan, \"Mert\", 1, -6, None, \n",
    "                                       2, 5, \"Ahmet\", \"Selam Nasılsın\"]))\n",
    "\n",
    "missing_data"
   ]
  },
  {
   "cell_type": "markdown",
   "metadata": {},
   "source": [
    "### Eksik Verilerin Tespit Edilmesi\n",
    "\n",
    "* isnull(): Eksik verilerin olduğu yerleri True olarak döner.\n",
    "* isna(): isnull() gibi işlevi vardır.\n",
    "* notnull() : Eksik verinin olduğu yerleri False olarak döner."
   ]
  },
  {
   "cell_type": "code",
   "execution_count": null,
   "metadata": {},
   "outputs": [],
   "source": [
    "missing_data.isnull()"
   ]
  },
  {
   "cell_type": "code",
   "execution_count": null,
   "metadata": {},
   "outputs": [],
   "source": [
    "missing_data.isna()"
   ]
  },
  {
   "cell_type": "code",
   "execution_count": null,
   "metadata": {},
   "outputs": [],
   "source": [
    "missing_data.notnull()"
   ]
  },
  {
   "cell_type": "code",
   "execution_count": null,
   "metadata": {},
   "outputs": [],
   "source": [
    "# Toplam kaç tane eksik verim var?\n",
    "\n",
    "missing_data.isna().sum()"
   ]
  },
  {
   "cell_type": "code",
   "execution_count": null,
   "metadata": {},
   "outputs": [],
   "source": [
    "# Toplam kaç tane dolu veri var?\n",
    "missing_data.notnull().sum()"
   ]
  },
  {
   "cell_type": "code",
   "execution_count": null,
   "metadata": {},
   "outputs": [],
   "source": [
    "# Eksik verileri görmek istersek;\n",
    "\n",
    "missing_data[missing_data.isnull()] "
   ]
  },
  {
   "cell_type": "code",
   "execution_count": null,
   "metadata": {},
   "outputs": [],
   "source": [
    "missing_data[missing_data.isna()]"
   ]
  },
  {
   "cell_type": "code",
   "execution_count": null,
   "metadata": {},
   "outputs": [],
   "source": [
    "# Eksik olmayan verileri listeleyelim;\n",
    "\n",
    "missing_data[missing_data.notnull()]"
   ]
  },
  {
   "cell_type": "markdown",
   "metadata": {},
   "source": [
    "### Eksik Veriler İle İlgili Neler Yapabiliriz Aşaması "
   ]
  },
  {
   "cell_type": "markdown",
   "metadata": {},
   "source": [
    "#### EKSİK VERİLERİN GÖZ ARDI EDİLMESİ.  ---> dropna()"
   ]
  },
  {
   "cell_type": "code",
   "execution_count": null,
   "metadata": {},
   "outputs": [],
   "source": [
    "# dropna() : Eksik verileri siler, düşürür.\n",
    "\n",
    "missing_data2 = missing_data.dropna() # dropna burdan siler ama gerçekte silmez. inplace=True"
   ]
  },
  {
   "cell_type": "code",
   "execution_count": null,
   "metadata": {},
   "outputs": [],
   "source": [
    "missing_data2"
   ]
  },
  {
   "cell_type": "markdown",
   "metadata": {},
   "source": [
    "#### EKSİK VERİLERİN HERHANGİ BİR DEĞERLE DOLDURULMASI --> fillna()"
   ]
  },
  {
   "cell_type": "code",
   "execution_count": null,
   "metadata": {},
   "outputs": [],
   "source": [
    "missing_data3 = missing_data.fillna(value= 0) # 0 ile doldur.\n",
    "\n",
    "missing_data3"
   ]
  },
  {
   "cell_type": "code",
   "execution_count": null,
   "metadata": {},
   "outputs": [],
   "source": [
    "missing_data3.isna().sum()"
   ]
  },
  {
   "cell_type": "markdown",
   "metadata": {},
   "source": [
    "## UYGULAMA : TİTANİC VERİ SETİ - VERİ ÖN İŞLEME"
   ]
  },
  {
   "cell_type": "code",
   "execution_count": null,
   "metadata": {},
   "outputs": [],
   "source": [
    "data_set = pd.read_csv(\"https://gist.githubusercontent.com/michhar/2dfd2de0d4f8727f873422c5d959fff5/raw/fa71405126017e6a37bea592440b4bee94bf7b9e/titanic.csv\")"
   ]
  },
  {
   "cell_type": "code",
   "execution_count": null,
   "metadata": {},
   "outputs": [],
   "source": [
    "data_set.head(5)"
   ]
  },
  {
   "cell_type": "code",
   "execution_count": null,
   "metadata": {},
   "outputs": [],
   "source": [
    "data_set.isnull()"
   ]
  },
  {
   "cell_type": "code",
   "execution_count": null,
   "metadata": {},
   "outputs": [],
   "source": [
    "data_set.isna()"
   ]
  },
  {
   "cell_type": "code",
   "execution_count": null,
   "metadata": {},
   "outputs": [],
   "source": [
    "data_set.notnull()"
   ]
  },
  {
   "cell_type": "code",
   "execution_count": null,
   "metadata": {},
   "outputs": [],
   "source": [
    "data_set.isnull().sum()"
   ]
  },
  {
   "cell_type": "code",
   "execution_count": null,
   "metadata": {},
   "outputs": [],
   "source": [
    "# Veri setindeki toplam null alanlar iki tane sum fonksiyonu ile bulunur.\n",
    "\n",
    "data_set.isnull().sum().sum()"
   ]
  },
  {
   "cell_type": "code",
   "execution_count": null,
   "metadata": {},
   "outputs": [],
   "source": [
    "data_set.isnull().sum().sort_values(ascending=False)"
   ]
  },
  {
   "cell_type": "code",
   "execution_count": null,
   "metadata": {},
   "outputs": [],
   "source": [
    "# Age kolonunu inceleyelim..\n",
    "\n",
    "data_set.Age"
   ]
  },
  {
   "cell_type": "code",
   "execution_count": null,
   "metadata": {},
   "outputs": [],
   "source": [
    "# Acaba Age kolonunda ne tür veriler var..\n",
    "# uçuk kaçık saçma değerler var mı?\n",
    "\n",
    "data_set.Age.unique()\n"
   ]
  },
  {
   "cell_type": "code",
   "execution_count": null,
   "metadata": {},
   "outputs": [],
   "source": [
    "# Bunları sıralayarak unique değerleri getirirsek daha iyi görürüz.\n",
    "\n",
    "x = data_set.Age.unique()\n",
    "x.sort(axis=0)\n",
    "x\n"
   ]
  },
  {
   "cell_type": "code",
   "execution_count": null,
   "metadata": {},
   "outputs": [],
   "source": [
    "# Hangi yaş grubundan toplam kaç kişi var?\n",
    "\n",
    "data_set.Age.value_counts()"
   ]
  },
  {
   "cell_type": "code",
   "execution_count": null,
   "metadata": {},
   "outputs": [],
   "source": [
    "data_set.Cabin.value_counts()"
   ]
  },
  {
   "cell_type": "code",
   "execution_count": null,
   "metadata": {},
   "outputs": [],
   "source": [
    "# Acaba unique olarak kaç tane kabin var?\n",
    "data_set.Cabin.unique()"
   ]
  },
  {
   "cell_type": "code",
   "execution_count": null,
   "metadata": {},
   "outputs": [],
   "source": [
    "# bir satırda en az bir tane null kayıt varsa onu nasıl getirebiliriz? - any\n",
    "\n",
    "data_set[data_set.isnull().any(axis=1)]"
   ]
  },
  {
   "cell_type": "code",
   "execution_count": null,
   "metadata": {},
   "outputs": [],
   "source": [
    "data_set[data_set.notnull().any(axis=1)]"
   ]
  },
  {
   "cell_type": "code",
   "execution_count": null,
   "metadata": {},
   "outputs": [],
   "source": [
    "data_set.isnull().sum()"
   ]
  },
  {
   "cell_type": "code",
   "execution_count": null,
   "metadata": {},
   "outputs": [],
   "source": [
    "data_set[data_set[\"Age\"].notnull() & data_set[\"Embarked\"].notnull()]"
   ]
  },
  {
   "cell_type": "code",
   "execution_count": null,
   "metadata": {},
   "outputs": [],
   "source": [
    "#En az 1 tane null(boş) kayıtları getirme\n",
    "data_set[data_set.isnull().any(axis = 1)]"
   ]
  },
  {
   "cell_type": "code",
   "execution_count": null,
   "metadata": {},
   "outputs": [],
   "source": [
    "#Bütün satırları getirme (farklı yol)\n",
    "data_set[data_set.notnull().any(axis = 1)]"
   ]
  },
  {
   "cell_type": "code",
   "execution_count": null,
   "metadata": {},
   "outputs": [],
   "source": [
    "#Cabinde dolu olan kayıtları getirme\n",
    "data_set[data_set[\"Cabin\"].notnull()]"
   ]
  },
  {
   "cell_type": "markdown",
   "metadata": {},
   "source": [
    "## Eksik Verilerin Doldurulması"
   ]
  },
  {
   "cell_type": "code",
   "execution_count": null,
   "metadata": {},
   "outputs": [],
   "source": [
    "#fillna() komutu ile 0 sayısı ile dolduracağız\n",
    "data_set[\"Embarked\"].value_counts()\n"
   ]
  },
  {
   "cell_type": "code",
   "execution_count": null,
   "metadata": {},
   "outputs": [],
   "source": [
    "#csv olarak kaydetme\n",
    "data_set.fillna(value = 0).to_csv(\"yasin1.csv\")"
   ]
  },
  {
   "cell_type": "code",
   "execution_count": null,
   "metadata": {},
   "outputs": [],
   "source": [
    "#belirli sutünları doldurma\n",
    "result = data_set.fillna({\"Cabin\": \"G6\", \"Age\": 25, \"Embarked\": \"S\"})\n",
    "result\n"
   ]
  },
  {
   "cell_type": "code",
   "execution_count": null,
   "metadata": {},
   "outputs": [],
   "source": [
    "result.isnull().sum()\n"
   ]
  },
  {
   "cell_type": "code",
   "execution_count": null,
   "metadata": {},
   "outputs": [],
   "source": [
    "#bfill parametresi : Kendinden sonraki değer ile doldurur\n",
    "data_set.fillna(method = \"bfill\").to_csv(\"yasin2_nextrecord.csv\")"
   ]
  },
  {
   "cell_type": "code",
   "execution_count": null,
   "metadata": {},
   "outputs": [],
   "source": [
    "data_set.to_csv(\"orjinal.csv\")"
   ]
  },
  {
   "cell_type": "code",
   "execution_count": null,
   "metadata": {},
   "outputs": [],
   "source": [
    "#Enterpolasyon yöntemi : 2 aralık arasına olabilecek uygun değer ile dolduruyor\n",
    "data_set.Age.interpolate(method = \"index\").to_csv(\"Age_doldurulmuş.csv\")"
   ]
  },
  {
   "cell_type": "markdown",
   "metadata": {},
   "source": [
    "#### Silme Yöntemi- Gözardı Etme"
   ]
  },
  {
   "cell_type": "code",
   "execution_count": null,
   "metadata": {},
   "outputs": [],
   "source": [
    "data_set.dropna().shape # dropna bu şekli ile kullanılır ise 183 tane kayıt kalıyor."
   ]
  },
  {
   "cell_type": "code",
   "execution_count": null,
   "metadata": {},
   "outputs": [],
   "source": [
    "data_set.shape"
   ]
  },
  {
   "cell_type": "code",
   "execution_count": null,
   "metadata": {},
   "outputs": [],
   "source": [
    "data_set.dropna(how=\"any\").shape # any herhangi bir sütunda bir tane bile boşluk olsa o satı"
   ]
  },
  {
   "cell_type": "code",
   "execution_count": null,
   "metadata": {},
   "outputs": [],
   "source": [
    "data_set.dropna(how=\"all\").shape # sütunlardaki bütün değerler boş ise siler."
   ]
  },
  {
   "cell_type": "code",
   "execution_count": null,
   "metadata": {},
   "outputs": [],
   "source": [
    "# thresh bir eşik değer parametresidir. en az bu kadar Nan olmayan veri varsa o satırı silme diyebiliriz.\n",
    "\n",
    "data_set.dropna(thresh=5).shape"
   ]
  },
  {
   "cell_type": "code",
   "execution_count": null,
   "metadata": {},
   "outputs": [],
   "source": [
    "data_set.dropna(thresh=10).shape"
   ]
  },
  {
   "cell_type": "code",
   "execution_count": null,
   "metadata": {},
   "outputs": [],
   "source": [
    "data_set.dropna(thresh=11).shape"
   ]
  },
  {
   "cell_type": "code",
   "execution_count": null,
   "metadata": {},
   "outputs": [],
   "source": [
    "data_set.dropna(thresh=12).shape"
   ]
  },
  {
   "cell_type": "code",
   "execution_count": null,
   "metadata": {},
   "outputs": [],
   "source": [
    "data_set['Age'].mean()"
   ]
  },
  {
   "cell_type": "code",
   "execution_count": null,
   "metadata": {},
   "outputs": [],
   "source": [
    "data_set['Age'].median()"
   ]
  },
  {
   "cell_type": "code",
   "execution_count": null,
   "metadata": {},
   "outputs": [],
   "source": [
    "data_set.head()"
   ]
  },
  {
   "cell_type": "code",
   "execution_count": null,
   "metadata": {},
   "outputs": [],
   "source": [
    "veri_seti1 = data_set.drop(['PassengerId', 'Name', 'Ticket'], axis='columns', inplace=False)\n",
    "\n",
    "veri_seti1"
   ]
  },
  {
   "cell_type": "markdown",
   "metadata": {},
   "source": [
    "## VERİ ÖN İŞLEMEDE SKLEARN KÜTÜPHANESİNİN KULLANILMASI\n",
    "\n",
    "### SimpleImputer Sınıfının Kullanılması\n",
    "\n",
    "SimpleImputer eksik değerleri hesaplamak için stratejiler sağlamaktadır. Eksik değerler, sabit değerler ile \n",
    "veya istatistiksel değerler ile doldurulabilir(mean, median vb) "
   ]
  },
  {
   "cell_type": "code",
   "execution_count": null,
   "metadata": {},
   "outputs": [],
   "source": [
    "import pandas as pd\n",
    "import numpy as np\n",
    "\n",
    "df = pd.DataFrame([[\"A\", \"S\", \"X\"],\n",
    "                   [np.nan, \"Y\", \"X\"],\n",
    "                   [\"c\", \"b\", np.nan],\n",
    "                   [\"c\", np.nan, \"d\"]])\n",
    "\n",
    "df \n"
   ]
  },
  {
   "cell_type": "code",
   "execution_count": null,
   "metadata": {},
   "outputs": [],
   "source": [
    "from sklearn.impute import SimpleImputer # SimpleImputer sınıfı..\n",
    "# bir tane boşluk doldurucu oluşturacağız. impx\n",
    "\n",
    "impx = SimpleImputer(strategy= 'most_frequent') # Kategorik veri olduğundan(string) strategy \n",
    "                                                # olarak en çok kullanılanı tercih ettik.\n",
    "\n",
    "print(impx.fit_transform(df)) # Aynı anda hem öğreniyor hem uyguluyor..\n",
    "\n"
   ]
  },
  {
   "cell_type": "markdown",
   "metadata": {},
   "source": [
    "### Uygulama-Housing\n",
    "\n",
    "Sayısal veri seti ile SimpleImputer uygulaması.."
   ]
  },
  {
   "cell_type": "code",
   "execution_count": null,
   "metadata": {},
   "outputs": [],
   "source": [
    "import pandas as pd\n",
    "\n",
    "# Amerika'da konut sektörüne ilişkin bir veri seti..\n",
    "\n",
    "df = pd.read_csv(\"housing.csv\") \n",
    "\n",
    "df.head()\n",
    "\n"
   ]
  },
  {
   "cell_type": "code",
   "execution_count": null,
   "metadata": {},
   "outputs": [],
   "source": [
    "# Kolon yani sütun isimlerini istersek değiştirebiliriz.\n",
    "df = df.rename({\"longitude\": 'Enlem', \"latitude\": \"Boylam\"}, axis=1)\n",
    "\n",
    "df.head(10)\n"
   ]
  },
  {
   "cell_type": "code",
   "execution_count": null,
   "metadata": {},
   "outputs": [],
   "source": [
    "# Benim datasetimde boş kayıt var mı?\n",
    "\n",
    "df.isnull().sum()"
   ]
  },
  {
   "cell_type": "markdown",
   "metadata": {},
   "source": [
    "### Sklearn Kütüphanesinden SimpleImputer İle Boşluk Doldurma Stratejileri."
   ]
  },
  {
   "cell_type": "code",
   "execution_count": null,
   "metadata": {},
   "outputs": [],
   "source": [
    "# Bağımsız değişkenleri-yani kolonları bir değişkene atayalım..\n",
    "\n",
    "X = df.iloc[:,2:8]\n",
    "\n",
    "# Bağımlı feature-kolonunun y değikenine atanması..\n",
    "\n",
    "y = df.iloc[:, -2 ]"
   ]
  },
  {
   "cell_type": "code",
   "execution_count": null,
   "metadata": {},
   "outputs": [],
   "source": [
    "# SimpleImputer'ın kullanılması.\n",
    "\n",
    "from sklearn.impute import SimpleImputer\n",
    "import numpy as np\n",
    "\n",
    "imputer = SimpleImputer(missing_values=np.nan, strategy = \"mean\")\n",
    "# Boşluk doldurma stratejimi belirledim.\n",
    "\n",
    "# Bu imputer stratejisine göre bir öğrenme gerçekleşmesi gerekiyor.\n",
    "\n",
    "impute = imputer.fit(X) # fit ile X üzerinde öğrenme gerçekleştir. FIT İLE ÖĞRENDİ\n",
    "\n",
    "# Uygulama adımı-transform..\n",
    "X = imputer.transform(X) \n",
    "\n",
    "print(X)"
   ]
  },
  {
   "cell_type": "code",
   "execution_count": null,
   "metadata": {},
   "outputs": [],
   "source": [
    "print(np.isnan(np.sum(X)))"
   ]
  },
  {
   "cell_type": "code",
   "execution_count": null,
   "metadata": {},
   "outputs": [],
   "source": [
    "# Bu bilgiyi dataframe'e dönüştürelim.\n",
    "\n",
    "dfx = pd.DataFrame(X)\n",
    "\n",
    "dfx.head(3)"
   ]
  },
  {
   "cell_type": "code",
   "execution_count": null,
   "metadata": {},
   "outputs": [],
   "source": [
    "df2 = pd.DataFrame(data=X, columns=[\"housing_median_age\", \"total_rooms\", \"total_bedrooms\", \"population\",\"households\",\"median_income\"])\n",
    "\n",
    "df2\n"
   ]
  },
  {
   "cell_type": "code",
   "execution_count": null,
   "metadata": {},
   "outputs": [],
   "source": [
    "df2.isnull().sum()"
   ]
  },
  {
   "cell_type": "markdown",
   "metadata": {},
   "source": [
    "### KNNImputer Kullanımı \n",
    "\n",
    "Varsayılan ölçü olarak Öklid mesafe ölçüsünü kullanıyor.\n",
    "\n",
    "\n"
   ]
  },
  {
   "cell_type": "code",
   "execution_count": null,
   "metadata": {},
   "outputs": [],
   "source": [
    "import pandas as pd\n",
    "\n",
    "# Amerika'da konut sektörüne ilişkin bir veri seti..\n",
    "\n",
    "df = pd.read_csv(\"housing.csv\") \n",
    "\n",
    "df.head()"
   ]
  },
  {
   "cell_type": "code",
   "execution_count": null,
   "metadata": {},
   "outputs": [],
   "source": [
    "df.isnull().sum()"
   ]
  },
  {
   "cell_type": "code",
   "execution_count": null,
   "metadata": {},
   "outputs": [],
   "source": [
    "from sklearn.impute import KNNImputer\n",
    "\n",
    "# Bağımsız değişkenler belirlenir.\n",
    "\n",
    "X_knn = df.iloc[:,2:8].values\n",
    "\n",
    "# Bağımlı değişken-Hedef\n",
    "\n",
    "y = df.iloc[:, -2].values \n",
    "\n",
    "\n",
    "imputer = KNNImputer(n_neighbors = 2, weights=\"uniform\") # n_neighboors =2 en yakın kaç komşuya bakacak değeri.\n",
    "\n",
    "imputer.fit_transform(X_knn) # hem modeli uydur hem de dönüştür..\n",
    "\n",
    "\n",
    "\n",
    "\n"
   ]
  },
  {
   "cell_type": "code",
   "execution_count": null,
   "metadata": {},
   "outputs": [],
   "source": [
    "dfx = pd.DataFrame(data= X_knn)\n",
    "\n",
    "dfx\n"
   ]
  },
  {
   "cell_type": "code",
   "execution_count": null,
   "metadata": {},
   "outputs": [],
   "source": [
    "dfx.isnull().sum()"
   ]
  },
  {
   "cell_type": "code",
   "execution_count": null,
   "metadata": {},
   "outputs": [],
   "source": [
    "dfx = pd.DataFrame(data= X_knn, columns=[\"housing_median_age\", \"total_rooms\", \"total_bedrooms\", \"population\",\"households\",\"median_income\"])\n",
    "\n",
    "dfx"
   ]
  },
  {
   "cell_type": "code",
   "execution_count": null,
   "metadata": {},
   "outputs": [],
   "source": []
  },
  {
   "cell_type": "markdown",
   "metadata": {},
   "source": [
    "### Örnek Uygulama-Kilo Boy-Cinsiyet"
   ]
  },
  {
   "cell_type": "code",
   "execution_count": null,
   "metadata": {},
   "outputs": [],
   "source": [
    "import pandas as pd\n",
    "\n",
    "boy = [185, 178, 176, 173, 160, 158,157,148,146,140,139,142,152]\n",
    "\n",
    "kilo = [70, 65,75,65,58,55,52,56,48,40,35,43,48,52]\n",
    "\n",
    "cinsiyet = [\"E\", \"E\", \"K\", \"E\", \"E\",\"K\",\"K\",\"K\",\"K\",\"K\",\"K\",\"K\",\"K\"]\n",
    "\n",
    "df = pd.DataFrame(data = list(zip(boy, kilo, cinsiyet)) , columns=[\"Boy\", \"Kilo\", \"Cinsiyet\"]) \n",
    "\n",
    "df\n",
    "            "
   ]
  },
  {
   "cell_type": "code",
   "execution_count": null,
   "metadata": {},
   "outputs": [],
   "source": [
    "!pip install mlxtend "
   ]
  },
  {
   "cell_type": "code",
   "execution_count": null,
   "metadata": {},
   "outputs": [],
   "source": [
    "import pandas as pd\n",
    "import matplotlib.pyplot as plt\n",
    "from sklearn import datasets, neighbors #KNN yakınlığını kullanacağız.\n",
    "from mlxtend.plotting import plot_decision_regions\n",
    "\n",
    "def knn_algoritma(data, k, m=\"euclidean\"):\n",
    "    x = data[[\"Kilo\", \"Boy\"]].values\n",
    "    y = data[\"Cinsiyet\"].astype('category').cat.codes.to_numpy() # kategorik veriyi yani string veriyi 0,1 gibi integer..\n",
    "    clfx = neighbors.KNeighborsClassifier(n_neighbors = k, metric=m )\n",
    "    clfx.fit(x,y)\n",
    "    plot_decision_regions(x, y, clf = clfx, legend=2)\n",
    "    plt.xlabel(\"Kilo\")\n",
    "    plt.ylabel(\"Boy\")\n",
    "    plt.title(\"KNN KOMŞULUK DEĞERİ\" + str(k))\n",
    "    plt.show()\n",
    "    "
   ]
  },
  {
   "cell_type": "code",
   "execution_count": null,
   "metadata": {},
   "outputs": [],
   "source": [
    "Liste = [1, 2, 3, 5, 8]\n",
    "\n",
    "for i in Liste:\n",
    "    knn_algoritma(df, i )"
   ]
  },
  {
   "cell_type": "code",
   "execution_count": null,
   "metadata": {},
   "outputs": [],
   "source": [
    "Liste = [1, 2, 3, 5, 8]\n",
    "\n",
    "for i in Liste:\n",
    "    knn_algoritma(df, i , \"manhattan\")"
   ]
  },
  {
   "cell_type": "code",
   "execution_count": null,
   "metadata": {},
   "outputs": [],
   "source": []
  },
  {
   "cell_type": "markdown",
   "metadata": {},
   "source": [
    "### Veri Ön İşlemede GÖRSELLEŞTİRME"
   ]
  },
  {
   "cell_type": "code",
   "execution_count": null,
   "metadata": {},
   "outputs": [],
   "source": [
    "import pandas as pd\n",
    "import numpy as np\n",
    "import seaborn as sns\n",
    "\n",
    "df = pd.read_csv(\"https://gist.githubusercontent.com/michhar/2dfd2de0d4f8727f873422c5d959fff5/raw/fa71405126017e6a37bea592440b4bee94bf7b9e/titanic.csv\")\n",
    "\n",
    "df"
   ]
  },
  {
   "cell_type": "code",
   "execution_count": null,
   "metadata": {},
   "outputs": [],
   "source": [
    "df.isnull().sum()"
   ]
  },
  {
   "cell_type": "code",
   "execution_count": null,
   "metadata": {},
   "outputs": [],
   "source": [
    "!pip install missingno"
   ]
  },
  {
   "cell_type": "code",
   "execution_count": null,
   "metadata": {},
   "outputs": [],
   "source": [
    "import missingno as msno\n",
    "\n",
    "msno.bar(df)"
   ]
  },
  {
   "cell_type": "code",
   "execution_count": null,
   "metadata": {},
   "outputs": [],
   "source": [
    "import missingno as msno\n",
    "\n",
    "msno.matrix(df)"
   ]
  },
  {
   "cell_type": "code",
   "execution_count": null,
   "metadata": {},
   "outputs": [],
   "source": [
    "sns.heatmap(df.isnull(), yticklabels='auto', cmap=\"plasma\")"
   ]
  },
  {
   "cell_type": "code",
   "execution_count": null,
   "metadata": {},
   "outputs": [],
   "source": [
    "msno.heatmap(df)"
   ]
  },
  {
   "cell_type": "code",
   "execution_count": null,
   "metadata": {},
   "outputs": [],
   "source": [
    "df.corr()"
   ]
  },
  {
   "cell_type": "markdown",
   "metadata": {},
   "source": [
    "## Linear Regression Modelleri(Simple & Multiple)\n"
   ]
  },
  {
   "cell_type": "code",
   "execution_count": null,
   "metadata": {},
   "outputs": [],
   "source": [
    "# Kütüphanelerin yüklenmesi\n",
    "import pandas as pd\n",
    "import seaborn as sns\n",
    "import matplotlib.pyplot as plt\n",
    "from sklearn.linear_model import LinearRegression\n",
    "\n",
    "#import data\n",
    "df = pd.read_csv(\"Verisetleri\\simpleLR.csv\", sep=\";\")\n",
    "\n",
    "df.head(5)\n",
    "\n",
    "#Matplotlib ile grafiğini çizelim..\n",
    "\n",
    "plt.scatter(df.deneyim, df.maas)\n",
    "\n",
    "plt.xlabel(\"Deneyim\")\n",
    "plt.ylabel(\"Maaş\")\n",
    "plt.show()\n",
    "\n",
    "# Bağımsız ve bağımlı değişkenleri belirliyoruz. X: bağımsız(Deneyim), y bağımlı(Maaş) değişken.\n",
    "\n",
    "X = df[[\"deneyim\"]] \n",
    "y = df[[\"maas\"]]\n",
    "\n",
    "# Modeli kuruyoruz;\n",
    "reg = LinearRegression() # reg isminde bir obje oluşturduk.\n",
    "model = reg.fit(X, y) #fit dediğimizde model kurulmuş oluyor.\n",
    "\n",
    "print(\"Intercept_ değerimiz:\", model.intercept_)\n",
    "print(\"coef_ değerimiz:\", model.coef_)\n",
    "print(\"Deneyimin maaşı açıklama yüzdesi:\", model.score(X, y))\n",
    "\n",
    "# Seaborn ile grafiğiniz çizelim.\n",
    "grafik = sns.regplot(df[\"deneyim\"], df[\"maas\"], ci=None, scatter_kws={\"color\":\"r\", \"s\":9})\n",
    "\n",
    "grafik.set_title((\"Modelin denklemi:  maas = %s + deneyim %s\" ) % ( model.intercept_, model.coef_) )\n",
    "\n",
    "\n",
    "\n",
    "\n"
   ]
  },
  {
   "cell_type": "markdown",
   "metadata": {},
   "source": [
    "## Uygulama- Multiple Örnek: Deneyim ve Yaşa Göre Maaş Durumu"
   ]
  },
  {
   "cell_type": "code",
   "execution_count": null,
   "metadata": {},
   "outputs": [],
   "source": [
    "# Kütüphanelerin yüklenmesi\n",
    "\n",
    "import numpy as np\n",
    "import pandas as pd\n",
    "import matplotlib.pyplot as plt\n",
    "from sklearn.linear_model import LinearRegression\n",
    "\n",
    "\n",
    "#import data\n",
    "df = pd.read_csv(\"Verisetleri\\linear_regression_dataset2.csv\", sep=\";\")\n",
    "\n",
    "print(df.head(5))\n",
    "\n",
    "# Bağımsız ve bağımlı değişkenleri belirliyoruz.\n",
    "X = df.drop(\"maas\", axis=1) #bağımsız\n",
    "y = df[\"maas\"] #bağımlı\n",
    "\n",
    "print(X.head())\n",
    "print(y.head())\n",
    "\n",
    "# y numpy array olduğu için bunu dataframe e dönüştürelim.\n",
    "y= df[[\"maas\"]]\n",
    "print(\"y nin dataframe e dönüşmüş hali: \\n\", y)\n",
    "\n",
    "# STATSMODEL ile YAPIMIZI İNCELEYELİM.\n",
    "import statsmodels.api as sm\n",
    "\n",
    "lineerModelSTATS = sm.OLS(y, X) # OLS modelin kuruyoruz. ilk argüman bağımlı, ikinci bağımsız \n",
    "\n",
    "modelSTATS = lineerModelSTATS.fit()\n",
    "\n",
    "print(\"STATSMODEL Değerleri : \", modelSTATS.summary())\n",
    "\n",
    "# SKLEARN İle analiz yapalım.\n",
    "LineerModelSCKIT = LinearRegression()\n",
    "\n",
    "modelSCKIT = LineerModelSCKIT.fit(X, y)\n",
    "\n",
    "print(\"============================SKITLEARN İLE İLGİLİ BÖLÜM=======================================\")\n",
    "print(\"Denklemin sabiti-bağımlı değişkeni_INTERCEPT_ : \", modelSCKIT.intercept_)\n",
    "print(\"Denklemin bağımsız değişkenleri: COEF_ :\", modelSCKIT.coef_)\n",
    "\n",
    "# Çıkan parametreler ile tahmin yapalım;\n",
    "#  formül:    maas = -6254.66 + 548.76 * Deneyim + 404.727 * age \n",
    "\n",
    "\n",
    "deneyim1 = int(input(\"Deneyim giriniz:\"))\n",
    "age1= int(input(\"Yaş giriniz\"))\n",
    "\n",
    "yeni_veri = [[deneyim1], [age1]]\n",
    "\n",
    "yeni_veri = pd.DataFrame(yeni_veri).T\n",
    "print(\"Data Frame çevrilmiş tahmin edilecek değerler: \\n\", yeni_veri)\n",
    "\n",
    "# Şimdi tahmin edelim;\n",
    "\n",
    "print(\"Verilen değerlere göre tahmin sonucu:\", modelSCKIT.predict(yeni_veri))\n",
    "\n",
    "\n"
   ]
  },
  {
   "cell_type": "code",
   "execution_count": null,
   "metadata": {},
   "outputs": [],
   "source": []
  },
  {
   "cell_type": "markdown",
   "metadata": {},
   "source": [
    "## UYGULAMA: Unvan, age e göre maaş durumu MLR Çalışması"
   ]
  },
  {
   "cell_type": "code",
   "execution_count": null,
   "metadata": {},
   "outputs": [],
   "source": [
    "import numpy as np\n",
    "import pandas as pd\n",
    "import matplotlib.pyplot as plt\n",
    "from sklearn.linear_model import LinearRegression\n",
    "import statsmodels.api as sm\n",
    "\n",
    "df = pd.read_csv(\"Verisetleri\\lr_unvan_age_maas.csv\", sep=\";\") # data seti getiriyoruz\n",
    "print(df.head(5))\n",
    "\n",
    "X = df.drop(\"maas\", axis=1) #bağımlı (bağımsız derece düşürülmüş)\n",
    "y = df[\"maas\"] # bağımsız\n",
    "\n",
    "lineerModelSTATS = sm.OLS(y, X) # OLS MODELINI kuruyoruz. ilk argüman bağımlı değişken, ikini arg bağımsız.\n",
    "modelSTATS = lineerModelSTATS.fit()\n",
    "\n",
    "print(\"STATSMODEL Değerleri :\", modelSTATS.summary()) # R-squared iyi ve her iki değişkenin p değeri çok iyi\n",
    "\n",
    "\n",
    "LineerModelSCKIT = LinearRegression()\n",
    "modelSCKIT = LineerModelSCKIT.fit(X, y)\n",
    "\n",
    "print(\"=========================SKIT ILE ILGILI BÖLÜM=========================\")\n",
    "print(\"Denklemin sabiti-bağımlı değişkeni_INTERCEPT_: \", modelSCKIT.intercept_ )\n",
    "print(\"Denklemin bağımsız değişkenleri: COEF_ :\", modelSCKIT.coef_ )\n",
    "print(f\"Denklemin kendisi: y= {modelSCKIT.intercept_} + x\\N{SUBSCRIPT ONE}* {modelSCKIT.coef_[0]}+ x\\N{SUBSCRIPT TWO}*{modelSCKIT.coef_[1]}\")\n",
    "\n",
    "\"\"\"\n",
    "unvan = int(input(\"Deneyim giriniz \"))\n",
    "age = int(input(\"Yaş giriniz \"))\n",
    "\"\"\"\n",
    "\n",
    "import random\n",
    "unvan = random.randint(1,10)\n",
    "age = random.randint(18,77)\n",
    "print(f\"unvan: {unvan}, yaş {age}\")\n",
    "yeni_veri = [[unvan], [age]]\n",
    "\n",
    "\n",
    "yeni_veri = pd.DataFrame(yeni_veri).T # data frame oluştur\n",
    "# Şimdi tahmin edelim\n",
    "print(\"Verilen değerlere göre edilen tahmin sonucu :\", modelSCKIT.predict(yeni_veri))\n",
    "\n"
   ]
  },
  {
   "cell_type": "markdown",
   "metadata": {},
   "source": [
    "## UYGULAMA- TEK BİR ŞABLON ML REGRESYON- ADVERTISING ÜZERİNDEN"
   ]
  },
  {
   "cell_type": "code",
   "execution_count": null,
   "metadata": {},
   "outputs": [],
   "source": [
    "# ML REGRESYON ŞABLON-ADVERTISING DATASI ÜZERİNDEN.\n",
    "\n",
    "\n",
    "# Kütüphanelerin yüklenmesi\n",
    "\n",
    "import numpy as np\n",
    "import pandas as pd\n",
    "import matplotlib.pyplot as plt\n",
    "from sklearn.linear_model import LinearRegression\n",
    "\n",
    "#import data\n",
    "df = pd.read_csv(\"Verisetleri\\Advertising.csv\")\n",
    "\n",
    "print(\"unnamed alanı kaldırmadan önceki hal \\n\", df.head(5))\n",
    "\n",
    "df = df.iloc[:, 1:5] # unnamed alanı vardı gereksiz. Onu kaldırmak için yaptık.\n",
    "\n",
    "print(df.head(5))\n",
    "\n",
    "# Bağımsız ve bağımlı değişkenleri belirliyoruz.\n",
    "X = df.drop(\"sales\", axis=1) #bağımsız\n",
    "y = df[\"sales\"] #bağımlı\n",
    "\n",
    "print(X.head())\n",
    "print(y.head())\n",
    "\n",
    "# y numpy array olduğu için bunu dataframe e dönüştürelim.\n",
    "y= df[['sales']]\n",
    "print(\"y nin dataframe e dönüşmüş hali: \\n\", y)\n",
    "\n",
    "# STATSMODEL ile YAPIMIZI İNCELEYELİM.\n",
    "import statsmodels.api as sm\n",
    "\n",
    "lineerModelSTATS = sm.OLS(y, X) # OLS modelin kuruyoruz. ilk argüman bağımlı, ikinci bağımsız \n",
    "\n",
    "modelSTATS = lineerModelSTATS.fit()\n",
    "\n",
    "print(\"STATSMODEL Değerleri : \", modelSTATS.summary())\n",
    "\n",
    "# SKLEARN İle analiz yapalım.\n",
    "LineerModelSCKIT = LinearRegression()\n",
    "\n",
    "modelSCKIT = LineerModelSCKIT.fit(X, y)\n",
    "\n",
    "print(\"============================SKITLEARN İLE İLGİLİ BÖLÜM=======================================\")\n",
    "print(\"Denklemin sabiti-bağımlı değişkeni_INTERCEPT_ : \", modelSCKIT.intercept_)\n",
    "print(\"Denklemin bağımsız değişkenleri: COEF_ :\", modelSCKIT.coef_)\n",
    "\n",
    "# Çıkan parametreler ile tahmin yapalım;\n",
    "#  formül:    sales = 3.00520942 + 0.04577592 * TV + 0.18838318 * radio -0.00124333 * newspaper  \n",
    "\n",
    "'''veri2=[[300], [150], [420]]\n",
    "modelSCKIT.predict(veri2)'''\n",
    "\n",
    "tv = int(input(\"TV harcaması giriniz:\"))\n",
    "radyo= int(input(\"Radyo harcaması giriniz:\"))\n",
    "gazete = int(input(\"Gazete haramasını giriniz:\"))\n",
    "\n",
    "yeni_veri = [[tv], [radyo], [gazete]]\n",
    "\n",
    "yeni_veri = pd.DataFrame(yeni_veri).T\n",
    "print(\"Data Frame çevrilmiş tahmin edilecek değerler: \\n\", yeni_veri)\n",
    "\n",
    "# Şimdi tahmin edelim;\n",
    "\n",
    "print(\"Verilen değerlere göre tahmin sonucu:\", modelSCKIT.predict(yeni_veri))\n",
    "\n",
    "# ACABA BU TAHMİNİN BAŞARISI NEDİR? Hata Kareler Ortalaması:==================TAHMİN BAŞARISINA BAKALIM\n",
    "from sklearn.metrics import mean_squared_error\n",
    "\n",
    "modelSCKIT.predict(X)[0:10] #0 ile 10 arasındaki satırlardaki gerçek değerler üzerinden tahmin yapalım.\n",
    "\n",
    "   #ŞİMDİ SOL TARAF GERÇEK, SAĞ TARAF TAHMİN EDİLEN DEĞERLER OLARAK BAKALIM.\n",
    "\n",
    "MSE = mean_squared_error(y, modelSCKIT.predict(X))\n",
    "skor = modelSCKIT.score(X,y) #Bağımlı değişkendeki değişikliğin bağımsız değişkenlerce açıklanma yüzdesi\n",
    "\n",
    "print(\"Hata Kareler Ortalama MSE Değeri:\", MSE) #birim başı ortalama hata..\n",
    "print(\"Hata Kareler Ortalamasının Karekökü RMSE:\", MSE**0.5)\n",
    "print(\"skor R**2 \", skor) # Bağımlı değişkendeki değişikliğin bağımsız değişkenlerce açıklanma yüzdesi.\n",
    "\n"
   ]
  },
  {
   "cell_type": "markdown",
   "metadata": {},
   "source": [
    "## UYGULAMA - MLR Tips-Bahşiş Analizi"
   ]
  },
  {
   "cell_type": "markdown",
   "metadata": {},
   "source": [
    "#### 1. Kütüphanelerin Yüklenmesi ve import data.."
   ]
  },
  {
   "cell_type": "code",
   "execution_count": 37,
   "metadata": {},
   "outputs": [
    {
     "name": "stdout",
     "output_type": "stream",
     "text": [
      "     total_bill   tip     sex smoker   day    time  size\n",
      "193       15.48  2.02    Male    Yes  Thur   Lunch     2\n",
      "43         9.68  1.32    Male     No   Sun  Dinner     2\n",
      "228       13.28  2.72    Male     No   Sat  Dinner     2\n",
      "131       20.27  2.83  Female     No  Thur   Lunch     2\n",
      "49        18.04  3.00    Male     No   Sun  Dinner     2\n",
      "223       15.98  3.00  Female     No   Fri   Lunch     3\n",
      "218        7.74  1.44    Male    Yes   Sat  Dinner     2\n",
      "2         21.01  3.50    Male     No   Sun  Dinner     3\n",
      "95        40.17  4.73    Male    Yes   Fri  Dinner     4\n",
      "156       48.17  5.00    Male     No   Sun  Dinner     6\n"
     ]
    }
   ],
   "source": [
    "# import library\n",
    "import numpy as np\n",
    "import pandas as pd\n",
    "import seaborn as sns\n",
    "from sklearn.linear_model import LinearRegression\n",
    "\n",
    "# import data\n",
    "\n",
    "df = sns.load_dataset(\"tips\")\n",
    "\n",
    "# print(df.head(15))\n",
    "print(df.sample(10))\n"
   ]
  },
  {
   "cell_type": "markdown",
   "metadata": {},
   "source": [
    "#### 2. Eksik Verilerin Kontrolü ve Varsa Eksik Verilerin Doldurulması "
   ]
  },
  {
   "cell_type": "code",
   "execution_count": 38,
   "metadata": {},
   "outputs": [
    {
     "name": "stdout",
     "output_type": "stream",
     "text": [
      "Eksik olan veri toplamı: total_bill    0\n",
      "tip           0\n",
      "sex           0\n",
      "smoker        0\n",
      "day           0\n",
      "time          0\n",
      "size          0\n",
      "dtype: int64\n"
     ]
    }
   ],
   "source": [
    "from sklearn.impute import SimpleImputer\n",
    "\n",
    "print(f\"Eksik olan veri toplamı: {df.isnull().sum()}\")\n",
    "\n",
    "#Eksik veri var ise doldurma bölümü;\n",
    "imputer = SimpleImputer(missing_values = np.nan, strategy = \"mean\")\n",
    "imputer = imputer.fit(df[[\"total_bill\"]])\n",
    "df[[\"total_bill\"]] = imputer.transform(df[[\"total_bill\"]])\n"
   ]
  },
  {
   "cell_type": "markdown",
   "metadata": {},
   "source": [
    "#### 3. Kategorik Olmayan Değişkenler"
   ]
  },
  {
   "cell_type": "code",
   "execution_count": 39,
   "metadata": {},
   "outputs": [
    {
     "name": "stdout",
     "output_type": "stream",
     "text": [
      "   total_bill\n",
      "0       16.99\n",
      "1       10.34\n",
      "2       21.01\n",
      "3       23.68\n",
      "4       24.59\n"
     ]
    }
   ],
   "source": [
    "total_bill = df[[\"total_bill\"]]\n",
    "tip = df[[\"tip\"]]\n",
    "size = df[[\"size\"]]\n",
    "\n",
    "print(total_bill.head())"
   ]
  },
  {
   "cell_type": "markdown",
   "metadata": {},
   "source": [
    "#### 4. Kategorik Olan Veriler ve Varsa Kukla(Dummy) Değişkenlerinin Silinmesi, Verilerin Birleştirilmesi"
   ]
  },
  {
   "cell_type": "code",
   "execution_count": 40,
   "metadata": {},
   "outputs": [
    {
     "name": "stdout",
     "output_type": "stream",
     "text": [
      "     smoker_Yes  smoker_No\n",
      "200           1          0\n",
      "145           0          1\n",
      "175           1          0\n",
      "138           1          0\n",
      "196           1          0\n",
      "     day_Thur  day_Fri  day_Sat  day_Sun\n",
      "211         0        0        1        0\n",
      "80          1        0        0        0\n",
      "31          0        0        1        0\n",
      "156         0        0        0        1\n",
      "207         0        0        1        0\n",
      "Gün grup olarak kaç tane:\n",
      " Sat     87\n",
      "Sun     76\n",
      "Thur    62\n",
      "Fri     19\n",
      "Name: day, dtype: int64\n"
     ]
    },
    {
     "data": {
      "text/html": [
       "<div>\n",
       "<style scoped>\n",
       "    .dataframe tbody tr th:only-of-type {\n",
       "        vertical-align: middle;\n",
       "    }\n",
       "\n",
       "    .dataframe tbody tr th {\n",
       "        vertical-align: top;\n",
       "    }\n",
       "\n",
       "    .dataframe thead th {\n",
       "        text-align: right;\n",
       "    }\n",
       "</style>\n",
       "<table border=\"1\" class=\"dataframe\">\n",
       "  <thead>\n",
       "    <tr style=\"text-align: right;\">\n",
       "      <th></th>\n",
       "      <th>total_bill</th>\n",
       "      <th>size</th>\n",
       "      <th>smoker_No</th>\n",
       "      <th>day_Thur</th>\n",
       "      <th>day_Fri</th>\n",
       "      <th>day_Sat</th>\n",
       "      <th>day_Sun</th>\n",
       "      <th>tip</th>\n",
       "    </tr>\n",
       "  </thead>\n",
       "  <tbody>\n",
       "    <tr>\n",
       "      <th>211</th>\n",
       "      <td>25.89</td>\n",
       "      <td>4</td>\n",
       "      <td>0</td>\n",
       "      <td>0</td>\n",
       "      <td>0</td>\n",
       "      <td>1</td>\n",
       "      <td>0</td>\n",
       "      <td>5.16</td>\n",
       "    </tr>\n",
       "    <tr>\n",
       "      <th>74</th>\n",
       "      <td>14.73</td>\n",
       "      <td>2</td>\n",
       "      <td>1</td>\n",
       "      <td>0</td>\n",
       "      <td>0</td>\n",
       "      <td>1</td>\n",
       "      <td>0</td>\n",
       "      <td>2.20</td>\n",
       "    </tr>\n",
       "    <tr>\n",
       "      <th>59</th>\n",
       "      <td>48.27</td>\n",
       "      <td>4</td>\n",
       "      <td>1</td>\n",
       "      <td>0</td>\n",
       "      <td>0</td>\n",
       "      <td>1</td>\n",
       "      <td>0</td>\n",
       "      <td>6.73</td>\n",
       "    </tr>\n",
       "    <tr>\n",
       "      <th>196</th>\n",
       "      <td>10.34</td>\n",
       "      <td>2</td>\n",
       "      <td>0</td>\n",
       "      <td>1</td>\n",
       "      <td>0</td>\n",
       "      <td>0</td>\n",
       "      <td>0</td>\n",
       "      <td>2.00</td>\n",
       "    </tr>\n",
       "    <tr>\n",
       "      <th>98</th>\n",
       "      <td>21.01</td>\n",
       "      <td>2</td>\n",
       "      <td>0</td>\n",
       "      <td>0</td>\n",
       "      <td>1</td>\n",
       "      <td>0</td>\n",
       "      <td>0</td>\n",
       "      <td>3.00</td>\n",
       "    </tr>\n",
       "    <tr>\n",
       "      <th>87</th>\n",
       "      <td>18.28</td>\n",
       "      <td>2</td>\n",
       "      <td>1</td>\n",
       "      <td>1</td>\n",
       "      <td>0</td>\n",
       "      <td>0</td>\n",
       "      <td>0</td>\n",
       "      <td>4.00</td>\n",
       "    </tr>\n",
       "    <tr>\n",
       "      <th>108</th>\n",
       "      <td>18.24</td>\n",
       "      <td>2</td>\n",
       "      <td>1</td>\n",
       "      <td>0</td>\n",
       "      <td>0</td>\n",
       "      <td>1</td>\n",
       "      <td>0</td>\n",
       "      <td>3.76</td>\n",
       "    </tr>\n",
       "    <tr>\n",
       "      <th>45</th>\n",
       "      <td>18.29</td>\n",
       "      <td>2</td>\n",
       "      <td>1</td>\n",
       "      <td>0</td>\n",
       "      <td>0</td>\n",
       "      <td>0</td>\n",
       "      <td>1</td>\n",
       "      <td>3.00</td>\n",
       "    </tr>\n",
       "    <tr>\n",
       "      <th>217</th>\n",
       "      <td>11.59</td>\n",
       "      <td>2</td>\n",
       "      <td>0</td>\n",
       "      <td>0</td>\n",
       "      <td>0</td>\n",
       "      <td>1</td>\n",
       "      <td>0</td>\n",
       "      <td>1.50</td>\n",
       "    </tr>\n",
       "    <tr>\n",
       "      <th>231</th>\n",
       "      <td>15.69</td>\n",
       "      <td>3</td>\n",
       "      <td>0</td>\n",
       "      <td>0</td>\n",
       "      <td>0</td>\n",
       "      <td>1</td>\n",
       "      <td>0</td>\n",
       "      <td>3.00</td>\n",
       "    </tr>\n",
       "  </tbody>\n",
       "</table>\n",
       "</div>"
      ],
      "text/plain": [
       "     total_bill  size  smoker_No  day_Thur  day_Fri  day_Sat  day_Sun   tip\n",
       "211       25.89     4          0         0        0        1        0  5.16\n",
       "74        14.73     2          1         0        0        1        0  2.20\n",
       "59        48.27     4          1         0        0        1        0  6.73\n",
       "196       10.34     2          0         1        0        0        0  2.00\n",
       "98        21.01     2          0         0        1        0        0  3.00\n",
       "87        18.28     2          1         1        0        0        0  4.00\n",
       "108       18.24     2          1         0        0        1        0  3.76\n",
       "45        18.29     2          1         0        0        0        1  3.00\n",
       "217       11.59     2          0         0        0        1        0  1.50\n",
       "231       15.69     3          0         0        0        1        0  3.00"
      ]
     },
     "execution_count": 40,
     "metadata": {},
     "output_type": "execute_result"
    }
   ],
   "source": [
    "# Kategorik değişkenler için 0-1 dönüşümü\n",
    "\n",
    "smoker = pd.get_dummies(df[[\"smoker\"]])\n",
    "time = pd.get_dummies(df[[\"day\"]])\n",
    "\n",
    "print(smoker.sample(5))\n",
    "print(time.sample(5))\n",
    "\n",
    "donusum_day = df['day'].value_counts()\n",
    "print(\"Gün grup olarak kaç tane:\\n\", donusum_day)\n",
    "\n",
    "#Kukla değişekeni (Dummy Variable delete process)\n",
    "smoker = smoker.drop(\"smoker_Yes\", axis=1)\n",
    "\n",
    "# Verileri birleştirme;\n",
    "\n",
    "df_yeni = pd.concat([total_bill, size, smoker, time, tip], axis=1)\n",
    "\n",
    "df_yeni.sample(10)\n"
   ]
  },
  {
   "cell_type": "markdown",
   "metadata": {},
   "source": [
    "#### 5. Bağımlı ve Bağımsız Değişkenleri tespiti ile Train ve Test olarak veri setinin bölünmesi\n",
    "\n"
   ]
  },
  {
   "cell_type": "code",
   "execution_count": 18,
   "metadata": {},
   "outputs": [
    {
     "name": "stdout",
     "output_type": "stream",
     "text": [
      "     total_bill  size  smoker_No  day_Thur  day_Fri  day_Sat  day_Sun\n",
      "234       15.53     2          0         0        0        1        0\n",
      "227       20.45     4          1         0        0        1        0\n",
      "180       34.65     4          0         0        0        0        1\n",
      "5         25.29     4          1         0        0        0        1\n",
      "56        38.01     4          0         0        0        1        0\n",
      "..          ...   ...        ...       ...      ...      ...      ...\n",
      "106       20.49     2          0         0        0        1        0\n",
      "14        14.83     2          1         0        0        0        1\n",
      "92         5.75     2          0         0        1        0        0\n",
      "179       34.63     2          0         0        0        0        1\n",
      "102       44.30     3          0         0        0        1        0\n",
      "\n",
      "[170 rows x 7 columns]\n",
      "     total_bill  size  smoker_No  day_Thur  day_Fri  day_Sat  day_Sun\n",
      "24        19.82     2          1         0        0        1        0\n",
      "6          8.77     2          1         0        0        0        1\n",
      "153       24.55     4          1         0        0        0        1\n",
      "211       25.89     4          0         0        0        1        0\n",
      "198       13.00     2          0         1        0        0        0\n",
      "..          ...   ...        ...       ...      ...      ...      ...\n",
      "165       24.52     3          1         0        0        0        1\n",
      "154       19.77     4          1         0        0        0        1\n",
      "216       28.15     5          0         0        0        1        0\n",
      "79        17.29     2          1         1        0        0        0\n",
      "29        19.65     2          1         0        0        1        0\n",
      "\n",
      "[74 rows x 7 columns]\n"
     ]
    }
   ],
   "source": [
    "# Bağımlı ve bağımsız değişkenlerin belirlenmesi.\n",
    "\n",
    "X = df_yeni.iloc[ : , 0: 7 ]\n",
    "y = df_yeni.iloc[ : , 7:8]\n",
    "\n",
    "# Train ve Test Olarak veri setinin bölünmesi;\n",
    "from sklearn.model_selection import train_test_split\n",
    "\n",
    "x_train, x_test, y_train, y_test = train_test_split(X, y, test_size=0.3, random_state=42)\n",
    "\n",
    "print(x_train)\n",
    "print(x_test)\n",
    "\n",
    "\n",
    "\n",
    "\n"
   ]
  },
  {
   "cell_type": "markdown",
   "metadata": {},
   "source": [
    "#### 6. ModelSTATS Analizi"
   ]
  },
  {
   "cell_type": "code",
   "execution_count": 6,
   "metadata": {},
   "outputs": [
    {
     "name": "stdout",
     "output_type": "stream",
     "text": [
      "STATSMODEL Değerleri:                             OLS Regression Results                            \n",
      "==============================================================================\n",
      "Dep. Variable:                    tip   R-squared:                       0.470\n",
      "Model:                            OLS   Adj. R-squared:                  0.456\n",
      "Method:                 Least Squares   F-statistic:                     35.02\n",
      "Date:                Thu, 01 Jul 2021   Prob (F-statistic):           3.51e-30\n",
      "Time:                        14:52:34   Log-Likelihood:                -347.52\n",
      "No. Observations:                 244   AIC:                             709.0\n",
      "Df Residuals:                     237   BIC:                             733.5\n",
      "Df Model:                           6                                         \n",
      "Covariance Type:            nonrobust                                         \n",
      "==============================================================================\n",
      "                 coef    std err          t      P>|t|      [0.025      0.975]\n",
      "------------------------------------------------------------------------------\n",
      "total_bill     0.0941      0.009      9.966      0.000       0.075       0.113\n",
      "size           0.1774      0.089      1.995      0.047       0.002       0.353\n",
      "smoker_No      0.0849      0.146      0.583      0.560      -0.202       0.372\n",
      "day_Thur       0.6112      0.240      2.544      0.012       0.138       1.084\n",
      "day_Fri        0.7296      0.283      2.577      0.011       0.172       1.287\n",
      "day_Sat        0.5793      0.228      2.535      0.012       0.129       1.029\n",
      "day_Sun        0.6728      0.259      2.599      0.010       0.163       1.183\n",
      "==============================================================================\n",
      "Omnibus:                       27.593   Durbin-Watson:                   2.098\n",
      "Prob(Omnibus):                  0.000   Jarque-Bera (JB):               51.626\n",
      "Skew:                           0.604   Prob(JB):                     6.16e-12\n",
      "Kurtosis:                       4.902   Cond. No.                         144.\n",
      "==============================================================================\n",
      "\n",
      "Warnings:\n",
      "[1] Standard Errors assume that the covariance matrix of the errors is correctly specified.\n"
     ]
    }
   ],
   "source": [
    "# STATSMODEL ile YAPIMIZI İNCELEYELİM.\n",
    "import statsmodels.api as sm\n",
    "\n",
    "lineerModelSTATS = sm.OLS(y, X) #OLS modelini kuruyoruz.\n",
    "\n",
    "modelSTATS = lineerModelSTATS.fit()\n",
    "\n",
    "print(\"STATSMODEL Değerleri:\", modelSTATS.summary() )\n"
   ]
  },
  {
   "cell_type": "markdown",
   "metadata": {},
   "source": [
    "#### 7. Linear Regression Modelinin Kurulması"
   ]
  },
  {
   "cell_type": "code",
   "execution_count": 7,
   "metadata": {},
   "outputs": [
    {
     "data": {
      "text/plain": [
       "LinearRegression(copy_X=True, fit_intercept=True, n_jobs=None, normalize=False)"
      ]
     },
     "execution_count": 7,
     "metadata": {},
     "output_type": "execute_result"
    }
   ],
   "source": [
    "from sklearn.linear_model import LinearRegression\n",
    "\n",
    "ML_REG = LinearRegression()\n",
    "\n",
    "model = ML_REG.fit(x_train, y_train)\n",
    "\n",
    "model"
   ]
  },
  {
   "cell_type": "markdown",
   "metadata": {},
   "source": [
    "#### 8. Model Intercept_(sabit), coef(katsayıların) Bulunması"
   ]
  },
  {
   "cell_type": "code",
   "execution_count": 8,
   "metadata": {},
   "outputs": [
    {
     "name": "stdout",
     "output_type": "stream",
     "text": [
      "Sabit değerimiz: intercept_: [0.27803791]\n",
      "Bağımsız değişkenlerin katsayıları: Coef_: [[ 0.0962309   0.27509438  0.29590809  0.00362031  0.15143982 -0.05206352\n",
      "  -0.10299662]]\n"
     ]
    }
   ],
   "source": [
    "print(f\"Sabit değerimiz: intercept_: {model.intercept_}\")\n",
    "\n",
    "print(f\"Bağımsız değişkenlerin katsayıları: Coef_: {model.coef_}\")"
   ]
  },
  {
   "cell_type": "markdown",
   "metadata": {},
   "source": [
    "#### 9. Tahmin İşlemi Yapalım- (Test Datası İle)"
   ]
  },
  {
   "cell_type": "code",
   "execution_count": 41,
   "metadata": {},
   "outputs": [
    {
     "name": "stdout",
     "output_type": "stream",
     "text": [
      "    Tahmin Edilen-Prediction Gerçek Olan\n",
      "24                  2.979368        3.18\n",
      "6                   1.865083        2.00\n",
      "153                 3.933796        2.00\n",
      "211                 3.817770        5.16\n",
      "198                 2.082849        2.00\n",
      "..                       ...         ...\n",
      "165                 3.655814        3.48\n",
      "154                 3.473812        2.00\n",
      "216                 4.310346        3.00\n",
      "79                  2.791587        2.71\n",
      "29                  2.963008        3.00\n",
      "\n",
      "[74 rows x 2 columns]\n"
     ]
    }
   ],
   "source": [
    "y_prediction = ML_REG.predict(x_test) # x_test değerleri gelseydi, ytest değerleri ne olurdu..\n",
    "\n",
    "y_prediction\n",
    "\n",
    "# Bunları bir data frame'e çevirelim;\n",
    "\n",
    "y_guess = pd.DataFrame(data = y_prediction)\n",
    "y_guess.index = y_test.index\n",
    "\n",
    "# print(y_guess)\n",
    "\n",
    "result = pd.concat([y_guess, y_test], axis=1 )\n",
    "result.columns = [[\"Tahmin Edilen-Prediction\", \"Gerçek Olan\"]]\n",
    "\n",
    "print(result)\n"
   ]
  },
  {
   "cell_type": "markdown",
   "metadata": {},
   "source": [
    "#### 10. Genel Programsal Tahmin "
   ]
  },
  {
   "cell_type": "code",
   "execution_count": 12,
   "metadata": {},
   "outputs": [
    {
     "name": "stdout",
     "output_type": "stream",
     "text": [
      "Toplam ücret giriniz:100\n",
      "Kaç kişi yemek yedi3\n",
      "Sigara içiliyor mu? (0: İçilmiyor, 1:İçiliyor)0\n",
      "Perşembe günü mü yemek yendi? 0:Hayır, 1:Evet1\n",
      "Cuma günü mü yemek yendi? 0:Hayır, 1:Evet0\n",
      "Cumartesi günü mü yemek yendi? 0:Hayır, 1:Evet0\n",
      "Pazar günü mü yemek yendi? 0:Hayır, 1:Evet0\n",
      "Tahminen [10.72163791] kadar bahşiş ödeyebilirsiniz.\n"
     ]
    }
   ],
   "source": [
    "total_bill = int(input(\"Toplam ücret giriniz:\"))\n",
    "size = int(input(\"Kaç kişi yemek yedi\"))\n",
    "smoker = int(input(\"Sigara içiliyor mu? (0: İçilmiyor, 1:İçiliyor)\"))\n",
    "thursday = int(input(\"Perşembe günü mü yemek yendi? 0:Hayır, 1:Evet\"))\n",
    "friday = int(input(\"Cuma günü mü yemek yendi? 0:Hayır, 1:Evet\"))\n",
    "saturday = int(input(\"Cumartesi günü mü yemek yendi? 0:Hayır, 1:Evet\"))\n",
    "sunday = int(input(\"Pazar günü mü yemek yendi? 0:Hayır, 1:Evet\"))\n",
    "\n",
    "tahmin_sonuc = model.intercept_ + 0.096 * total_bill + 0.28 * size + 0.30 * smoker + 0.0036 * thursday + \\\n",
    "0.15 * friday - 0.05 * saturday - 0.10 * sunday\n",
    "\n",
    "print(f\"Tahminen {tahmin_sonuc} kadar bahşiş ödeyebilirsiniz.\")"
   ]
  },
  {
   "cell_type": "code",
   "execution_count": 36,
   "metadata": {},
   "outputs": [
    {
     "name": "stdout",
     "output_type": "stream",
     "text": [
      "Tahminen [10.73003154] kadar bahşiş ödeyebilirsiniz.\n"
     ]
    }
   ],
   "source": [
    "# direk indekslere ulaşarak da yapabiliriz.\n",
    "tahmin_sonuc2 = model.intercept_ + model.coef_[0,0] * total_bill + \\\n",
    "model.coef_[0,1] * size + model.coef_[0,2] * smoker + model.coef_[0,3] * thursday + \\\n",
    "model.coef_[0,4] * friday + model.coef_[0,5] * saturday + model.coef_[0,6]* sunday\n",
    "\n",
    "\n",
    "\n",
    "print(f\"Tahminen {tahmin_sonuc2} kadar bahşiş ödeyebilirsiniz.\")\n",
    "\n"
   ]
  },
  {
   "cell_type": "markdown",
   "metadata": {},
   "source": [
    "#### 11.(MSE ve RMSE) Hata Kareler Ortalaması ve Hata Kareler Ortalamasının Karekökü: \n",
    "\n",
    "MSE Tahmin edilen değerler ile gerçek değerler arasındaki ortalama hata karelerini ifade eder."
   ]
  },
  {
   "cell_type": "code",
   "execution_count": 45,
   "metadata": {},
   "outputs": [
    {
     "name": "stdout",
     "output_type": "stream",
     "text": [
      "TRAIN datasının rmse değeri 1.0420494266419704\n",
      "TEST datasının rmse değeri 0.9584301084717649\n"
     ]
    }
   ],
   "source": [
    "from sklearn.metrics import mean_squared_error\n",
    "\n",
    "rmse = np.sqrt(mean_squared_error(y_train, model.predict(x_train)))\n",
    "\n",
    "print(f\"TRAIN datasının rmse değeri {rmse}\")\n",
    "\n",
    "rmse = np.sqrt(mean_squared_error(y_test, model.predict(x_test)))\n",
    "\n",
    "print(f\"TEST datasının rmse değeri {rmse}\")\n",
    "\n"
   ]
  },
  {
   "cell_type": "code",
   "execution_count": 50,
   "metadata": {},
   "outputs": [
    {
     "name": "stdout",
     "output_type": "stream",
     "text": [
      "Birim başı ortalama hata MSE(Hata Kareler Ortalaması): 1.0858670075648593\n",
      "Hata Kareler Ortalamasının Karekökü RMSE 1.0420494266419704\n",
      "Modelin skoru: 0.4570805042092847 \n"
     ]
    }
   ],
   "source": [
    "# FARKLI GÖSTERİM\n",
    "\n",
    "MSE = mean_squared_error(y_train, model.predict(x_train))\n",
    "\n",
    "print(f\"Birim başı ortalama hata MSE(Hata Kareler Ortalaması): {MSE}\")\n",
    "print(f\"Hata Kareler Ortalamasının Karekökü RMSE {MSE ** 0.5}\")\n",
    "\n",
    "skor = model.score(X, y)\n",
    "print(f\"Modelin skoru: {skor} \")"
   ]
  },
  {
   "cell_type": "markdown",
   "metadata": {},
   "source": [
    "## MLR - Tenis Veri Seti"
   ]
  },
  {
   "cell_type": "markdown",
   "metadata": {},
   "source": [
    "#### 1. Kütüphanelerin Yüklenmesi-import data\n",
    "\n"
   ]
  },
  {
   "cell_type": "code",
   "execution_count": 2,
   "metadata": {},
   "outputs": [
    {
     "data": {
      "text/html": [
       "<div>\n",
       "<style scoped>\n",
       "    .dataframe tbody tr th:only-of-type {\n",
       "        vertical-align: middle;\n",
       "    }\n",
       "\n",
       "    .dataframe tbody tr th {\n",
       "        vertical-align: top;\n",
       "    }\n",
       "\n",
       "    .dataframe thead th {\n",
       "        text-align: right;\n",
       "    }\n",
       "</style>\n",
       "<table border=\"1\" class=\"dataframe\">\n",
       "  <thead>\n",
       "    <tr style=\"text-align: right;\">\n",
       "      <th></th>\n",
       "      <th>outlook</th>\n",
       "      <th>temperature</th>\n",
       "      <th>humidity</th>\n",
       "      <th>windy</th>\n",
       "      <th>play</th>\n",
       "    </tr>\n",
       "  </thead>\n",
       "  <tbody>\n",
       "    <tr>\n",
       "      <th>0</th>\n",
       "      <td>sunny</td>\n",
       "      <td>85</td>\n",
       "      <td>85</td>\n",
       "      <td>False</td>\n",
       "      <td>no</td>\n",
       "    </tr>\n",
       "    <tr>\n",
       "      <th>1</th>\n",
       "      <td>sunny</td>\n",
       "      <td>80</td>\n",
       "      <td>90</td>\n",
       "      <td>True</td>\n",
       "      <td>no</td>\n",
       "    </tr>\n",
       "    <tr>\n",
       "      <th>2</th>\n",
       "      <td>overcast</td>\n",
       "      <td>83</td>\n",
       "      <td>86</td>\n",
       "      <td>False</td>\n",
       "      <td>yes</td>\n",
       "    </tr>\n",
       "    <tr>\n",
       "      <th>3</th>\n",
       "      <td>rainy</td>\n",
       "      <td>70</td>\n",
       "      <td>96</td>\n",
       "      <td>False</td>\n",
       "      <td>yes</td>\n",
       "    </tr>\n",
       "    <tr>\n",
       "      <th>4</th>\n",
       "      <td>rainy</td>\n",
       "      <td>68</td>\n",
       "      <td>80</td>\n",
       "      <td>False</td>\n",
       "      <td>yes</td>\n",
       "    </tr>\n",
       "  </tbody>\n",
       "</table>\n",
       "</div>"
      ],
      "text/plain": [
       "    outlook  temperature  humidity  windy play\n",
       "0     sunny           85        85  False   no\n",
       "1     sunny           80        90   True   no\n",
       "2  overcast           83        86  False  yes\n",
       "3     rainy           70        96  False  yes\n",
       "4     rainy           68        80  False  yes"
      ]
     },
     "execution_count": 2,
     "metadata": {},
     "output_type": "execute_result"
    }
   ],
   "source": [
    "import numpy as np\n",
    "import pandas as pd\n",
    "import matplotlib.pyplot as plt\n",
    "import seaborn as sns\n",
    "from sklearn.linear_model import LinearRegression\n",
    "\n",
    "df = pd.read_csv(\"Verisetleri\\o_tenis.csv\")\n",
    "\n",
    "df.head()"
   ]
  },
  {
   "cell_type": "markdown",
   "metadata": {},
   "source": [
    "#### Eksik Verilerin kontrolü veri ön işleme"
   ]
  },
  {
   "cell_type": "code",
   "execution_count": 3,
   "metadata": {},
   "outputs": [
    {
     "name": "stdout",
     "output_type": "stream",
     "text": [
      "Eksik veri kontrolü: outlook        0\n",
      "temperature    0\n",
      "humidity       0\n",
      "windy          0\n",
      "play           0\n",
      "dtype: int64\n",
      "Eksik olan veriler:    outlook  temperature  humidity  windy play\n",
      "0      NaN          NaN       NaN    NaN  NaN\n",
      "1      NaN          NaN       NaN    NaN  NaN\n",
      "2      NaN          NaN       NaN    NaN  NaN\n",
      "3      NaN          NaN       NaN    NaN  NaN\n",
      "4      NaN          NaN       NaN    NaN  NaN\n",
      "5      NaN          NaN       NaN    NaN  NaN\n",
      "6      NaN          NaN       NaN    NaN  NaN\n",
      "7      NaN          NaN       NaN    NaN  NaN\n",
      "8      NaN          NaN       NaN    NaN  NaN\n",
      "9      NaN          NaN       NaN    NaN  NaN\n",
      "10     NaN          NaN       NaN    NaN  NaN\n",
      "11     NaN          NaN       NaN    NaN  NaN\n",
      "12     NaN          NaN       NaN    NaN  NaN\n",
      "13     NaN          NaN       NaN    NaN  NaN\n"
     ]
    }
   ],
   "source": [
    "from sklearn.impute import SimpleImputer\n",
    "# Eksik veri var mı?\n",
    "print(\"Eksik veri kontrolü:\", df.isnull().sum())\n",
    "\n",
    "# Eksik veri var is görelim;\n",
    "print(\"Eksik olan veriler:\", df[df.isnull()])\n",
    "\n",
    "# Eksik verileri Ortalama ile doldurma.\n",
    "imputer = SimpleImputer(missing_values = np.nan, strategy=\"mean\")\n",
    "imputer = imputer.fit(df[[\"humidity\"]])\n",
    "df[[\"humidity\"]] = imputer.transform(df[[\"humidity\"]])\n"
   ]
  },
  {
   "cell_type": "markdown",
   "metadata": {},
   "source": [
    "#### 3. Kategorik Olmayan Değişkenler"
   ]
  },
  {
   "cell_type": "code",
   "execution_count": 5,
   "metadata": {},
   "outputs": [
    {
     "name": "stdout",
     "output_type": "stream",
     "text": [
      "   temperature\n",
      "0           85\n",
      "1           80\n",
      "2           83\n",
      "3           70\n",
      "4           68\n",
      "   humidity\n",
      "0      85.0\n",
      "1      90.0\n",
      "2      86.0\n",
      "3      96.0\n",
      "4      80.0\n"
     ]
    }
   ],
   "source": [
    "tempraturex= df[[\"temperature\"]]\n",
    "humidityx = df[[\"humidity\"]]\n",
    "\n",
    "print(tempraturex.head(5))\n",
    "print(humidityx.head(5))"
   ]
  },
  {
   "cell_type": "markdown",
   "metadata": {},
   "source": [
    "#### 4. Kategorik veriler varsa ve bunların içindeki kukla değişkenlerin kontrolü"
   ]
  },
  {
   "cell_type": "code",
   "execution_count": 18,
   "metadata": {},
   "outputs": [
    {
     "data": {
      "text/html": [
       "<div>\n",
       "<style scoped>\n",
       "    .dataframe tbody tr th:only-of-type {\n",
       "        vertical-align: middle;\n",
       "    }\n",
       "\n",
       "    .dataframe tbody tr th {\n",
       "        vertical-align: top;\n",
       "    }\n",
       "\n",
       "    .dataframe thead th {\n",
       "        text-align: right;\n",
       "    }\n",
       "</style>\n",
       "<table border=\"1\" class=\"dataframe\">\n",
       "  <thead>\n",
       "    <tr style=\"text-align: right;\">\n",
       "      <th></th>\n",
       "      <th>outlook</th>\n",
       "      <th>temperature</th>\n",
       "      <th>humidity</th>\n",
       "      <th>windy</th>\n",
       "      <th>play</th>\n",
       "    </tr>\n",
       "  </thead>\n",
       "  <tbody>\n",
       "    <tr>\n",
       "      <th>0</th>\n",
       "      <td>sunny</td>\n",
       "      <td>85</td>\n",
       "      <td>85.0</td>\n",
       "      <td>False</td>\n",
       "      <td>no</td>\n",
       "    </tr>\n",
       "    <tr>\n",
       "      <th>1</th>\n",
       "      <td>sunny</td>\n",
       "      <td>80</td>\n",
       "      <td>90.0</td>\n",
       "      <td>True</td>\n",
       "      <td>no</td>\n",
       "    </tr>\n",
       "    <tr>\n",
       "      <th>2</th>\n",
       "      <td>overcast</td>\n",
       "      <td>83</td>\n",
       "      <td>86.0</td>\n",
       "      <td>False</td>\n",
       "      <td>yes</td>\n",
       "    </tr>\n",
       "    <tr>\n",
       "      <th>3</th>\n",
       "      <td>rainy</td>\n",
       "      <td>70</td>\n",
       "      <td>96.0</td>\n",
       "      <td>False</td>\n",
       "      <td>yes</td>\n",
       "    </tr>\n",
       "    <tr>\n",
       "      <th>4</th>\n",
       "      <td>rainy</td>\n",
       "      <td>68</td>\n",
       "      <td>80.0</td>\n",
       "      <td>False</td>\n",
       "      <td>yes</td>\n",
       "    </tr>\n",
       "    <tr>\n",
       "      <th>5</th>\n",
       "      <td>rainy</td>\n",
       "      <td>65</td>\n",
       "      <td>70.0</td>\n",
       "      <td>True</td>\n",
       "      <td>no</td>\n",
       "    </tr>\n",
       "    <tr>\n",
       "      <th>6</th>\n",
       "      <td>overcast</td>\n",
       "      <td>64</td>\n",
       "      <td>65.0</td>\n",
       "      <td>True</td>\n",
       "      <td>yes</td>\n",
       "    </tr>\n",
       "    <tr>\n",
       "      <th>7</th>\n",
       "      <td>sunny</td>\n",
       "      <td>72</td>\n",
       "      <td>95.0</td>\n",
       "      <td>False</td>\n",
       "      <td>no</td>\n",
       "    </tr>\n",
       "    <tr>\n",
       "      <th>8</th>\n",
       "      <td>sunny</td>\n",
       "      <td>69</td>\n",
       "      <td>70.0</td>\n",
       "      <td>False</td>\n",
       "      <td>yes</td>\n",
       "    </tr>\n",
       "    <tr>\n",
       "      <th>9</th>\n",
       "      <td>rainy</td>\n",
       "      <td>75</td>\n",
       "      <td>80.0</td>\n",
       "      <td>False</td>\n",
       "      <td>yes</td>\n",
       "    </tr>\n",
       "    <tr>\n",
       "      <th>10</th>\n",
       "      <td>sunny</td>\n",
       "      <td>75</td>\n",
       "      <td>70.0</td>\n",
       "      <td>True</td>\n",
       "      <td>yes</td>\n",
       "    </tr>\n",
       "    <tr>\n",
       "      <th>11</th>\n",
       "      <td>overcast</td>\n",
       "      <td>72</td>\n",
       "      <td>90.0</td>\n",
       "      <td>True</td>\n",
       "      <td>yes</td>\n",
       "    </tr>\n",
       "    <tr>\n",
       "      <th>12</th>\n",
       "      <td>overcast</td>\n",
       "      <td>81</td>\n",
       "      <td>75.0</td>\n",
       "      <td>False</td>\n",
       "      <td>yes</td>\n",
       "    </tr>\n",
       "    <tr>\n",
       "      <th>13</th>\n",
       "      <td>rainy</td>\n",
       "      <td>71</td>\n",
       "      <td>91.0</td>\n",
       "      <td>True</td>\n",
       "      <td>no</td>\n",
       "    </tr>\n",
       "  </tbody>\n",
       "</table>\n",
       "</div>"
      ],
      "text/plain": [
       "     outlook  temperature  humidity  windy play\n",
       "0      sunny           85      85.0  False   no\n",
       "1      sunny           80      90.0   True   no\n",
       "2   overcast           83      86.0  False  yes\n",
       "3      rainy           70      96.0  False  yes\n",
       "4      rainy           68      80.0  False  yes\n",
       "5      rainy           65      70.0   True   no\n",
       "6   overcast           64      65.0   True  yes\n",
       "7      sunny           72      95.0  False   no\n",
       "8      sunny           69      70.0  False  yes\n",
       "9      rainy           75      80.0  False  yes\n",
       "10     sunny           75      70.0   True  yes\n",
       "11  overcast           72      90.0   True  yes\n",
       "12  overcast           81      75.0  False  yes\n",
       "13     rainy           71      91.0   True   no"
      ]
     },
     "execution_count": 18,
     "metadata": {},
     "output_type": "execute_result"
    }
   ],
   "source": [
    "df.head(1000)"
   ]
  },
  {
   "cell_type": "code",
   "execution_count": 59,
   "metadata": {},
   "outputs": [
    {
     "name": "stdout",
     "output_type": "stream",
     "text": [
      "<class 'pandas.core.frame.DataFrame'>\n",
      "RangeIndex: 14 entries, 0 to 13\n",
      "Data columns (total 5 columns):\n",
      " #   Column       Non-Null Count  Dtype  \n",
      "---  ------       --------------  -----  \n",
      " 0   outlook      14 non-null     object \n",
      " 1   temperature  14 non-null     int64  \n",
      " 2   humidity     14 non-null     float64\n",
      " 3   windy        14 non-null     bool   \n",
      " 4   play         14 non-null     object \n",
      "dtypes: bool(1), float64(1), int64(1), object(2)\n",
      "memory usage: 590.0+ bytes\n"
     ]
    }
   ],
   "source": [
    "df.info()"
   ]
  },
  {
   "cell_type": "code",
   "execution_count": 7,
   "metadata": {},
   "outputs": [
    {
     "data": {
      "text/html": [
       "<div>\n",
       "<style scoped>\n",
       "    .dataframe tbody tr th:only-of-type {\n",
       "        vertical-align: middle;\n",
       "    }\n",
       "\n",
       "    .dataframe tbody tr th {\n",
       "        vertical-align: top;\n",
       "    }\n",
       "\n",
       "    .dataframe thead th {\n",
       "        text-align: right;\n",
       "    }\n",
       "</style>\n",
       "<table border=\"1\" class=\"dataframe\">\n",
       "  <thead>\n",
       "    <tr style=\"text-align: right;\">\n",
       "      <th></th>\n",
       "      <th>temperature</th>\n",
       "      <th>humidity</th>\n",
       "    </tr>\n",
       "  </thead>\n",
       "  <tbody>\n",
       "    <tr>\n",
       "      <th>count</th>\n",
       "      <td>14.000000</td>\n",
       "      <td>14.000000</td>\n",
       "    </tr>\n",
       "    <tr>\n",
       "      <th>mean</th>\n",
       "      <td>73.571429</td>\n",
       "      <td>81.642857</td>\n",
       "    </tr>\n",
       "    <tr>\n",
       "      <th>std</th>\n",
       "      <td>6.571667</td>\n",
       "      <td>10.285218</td>\n",
       "    </tr>\n",
       "    <tr>\n",
       "      <th>min</th>\n",
       "      <td>64.000000</td>\n",
       "      <td>65.000000</td>\n",
       "    </tr>\n",
       "    <tr>\n",
       "      <th>25%</th>\n",
       "      <td>69.250000</td>\n",
       "      <td>71.250000</td>\n",
       "    </tr>\n",
       "    <tr>\n",
       "      <th>50%</th>\n",
       "      <td>72.000000</td>\n",
       "      <td>82.500000</td>\n",
       "    </tr>\n",
       "    <tr>\n",
       "      <th>75%</th>\n",
       "      <td>78.750000</td>\n",
       "      <td>90.000000</td>\n",
       "    </tr>\n",
       "    <tr>\n",
       "      <th>max</th>\n",
       "      <td>85.000000</td>\n",
       "      <td>96.000000</td>\n",
       "    </tr>\n",
       "  </tbody>\n",
       "</table>\n",
       "</div>"
      ],
      "text/plain": [
       "       temperature   humidity\n",
       "count    14.000000  14.000000\n",
       "mean     73.571429  81.642857\n",
       "std       6.571667  10.285218\n",
       "min      64.000000  65.000000\n",
       "25%      69.250000  71.250000\n",
       "50%      72.000000  82.500000\n",
       "75%      78.750000  90.000000\n",
       "max      85.000000  96.000000"
      ]
     },
     "execution_count": 7,
     "metadata": {},
     "output_type": "execute_result"
    }
   ],
   "source": [
    "df.describe()"
   ]
  },
  {
   "cell_type": "code",
   "execution_count": 10,
   "metadata": {},
   "outputs": [
    {
     "name": "stdout",
     "output_type": "stream",
     "text": [
      "    windy_False\n",
      "10            0\n",
      "2             1\n",
      "7             1\n",
      "   play_no\n",
      "8        0\n",
      "4        0\n",
      "0        1\n"
     ]
    },
    {
     "data": {
      "text/html": [
       "<div>\n",
       "<style scoped>\n",
       "    .dataframe tbody tr th:only-of-type {\n",
       "        vertical-align: middle;\n",
       "    }\n",
       "\n",
       "    .dataframe tbody tr th {\n",
       "        vertical-align: top;\n",
       "    }\n",
       "\n",
       "    .dataframe thead th {\n",
       "        text-align: right;\n",
       "    }\n",
       "</style>\n",
       "<table border=\"1\" class=\"dataframe\">\n",
       "  <thead>\n",
       "    <tr style=\"text-align: right;\">\n",
       "      <th></th>\n",
       "      <th>outlook_overcast</th>\n",
       "      <th>outlook_sunny</th>\n",
       "      <th>temperature</th>\n",
       "      <th>play_no</th>\n",
       "      <th>windy_False</th>\n",
       "      <th>humidity</th>\n",
       "    </tr>\n",
       "  </thead>\n",
       "  <tbody>\n",
       "    <tr>\n",
       "      <th>9</th>\n",
       "      <td>0</td>\n",
       "      <td>0</td>\n",
       "      <td>75</td>\n",
       "      <td>0</td>\n",
       "      <td>1</td>\n",
       "      <td>80.0</td>\n",
       "    </tr>\n",
       "    <tr>\n",
       "      <th>8</th>\n",
       "      <td>0</td>\n",
       "      <td>1</td>\n",
       "      <td>69</td>\n",
       "      <td>0</td>\n",
       "      <td>1</td>\n",
       "      <td>70.0</td>\n",
       "    </tr>\n",
       "    <tr>\n",
       "      <th>6</th>\n",
       "      <td>1</td>\n",
       "      <td>0</td>\n",
       "      <td>64</td>\n",
       "      <td>0</td>\n",
       "      <td>0</td>\n",
       "      <td>65.0</td>\n",
       "    </tr>\n",
       "    <tr>\n",
       "      <th>10</th>\n",
       "      <td>0</td>\n",
       "      <td>1</td>\n",
       "      <td>75</td>\n",
       "      <td>0</td>\n",
       "      <td>0</td>\n",
       "      <td>70.0</td>\n",
       "    </tr>\n",
       "    <tr>\n",
       "      <th>11</th>\n",
       "      <td>1</td>\n",
       "      <td>0</td>\n",
       "      <td>72</td>\n",
       "      <td>0</td>\n",
       "      <td>0</td>\n",
       "      <td>90.0</td>\n",
       "    </tr>\n",
       "  </tbody>\n",
       "</table>\n",
       "</div>"
      ],
      "text/plain": [
       "    outlook_overcast  outlook_sunny  temperature  play_no  windy_False  \\\n",
       "9                  0              0           75        0            1   \n",
       "8                  0              1           69        0            1   \n",
       "6                  1              0           64        0            0   \n",
       "10                 0              1           75        0            0   \n",
       "11                 1              0           72        0            0   \n",
       "\n",
       "    humidity  \n",
       "9       80.0  \n",
       "8       70.0  \n",
       "6       65.0  \n",
       "10      70.0  \n",
       "11      90.0  "
      ]
     },
     "execution_count": 10,
     "metadata": {},
     "output_type": "execute_result"
    }
   ],
   "source": [
    "# Kategorik veriler için 0-1 dönüşümü\n",
    "outlookx = pd.get_dummies(df[[\"outlook\"]])\n",
    "outlookx = outlookx.drop(\"outlook_rainy\", axis=1)\n",
    "windyx = pd.get_dummies(df, columns=[\"windy\"])\n",
    "windyx = windyx[[\"windy_False\"]]\n",
    "\n",
    "playx = pd.get_dummies(df[[\"play\"]])\n",
    "playx = playx.drop(\"play_yes\", axis=1)\n",
    "print(windyx.sample(3))\n",
    "print(playx.sample(3))\n",
    "\n",
    "df_yeni = pd.concat([outlookx, tempraturex, playx, windyx, humidityx], axis=1)\n",
    "\n",
    "df_yeni.sample(5)\n"
   ]
  },
  {
   "cell_type": "markdown",
   "metadata": {},
   "source": [
    "#### 5. Bağımlı ve Bağımsız Değişkenlerin Tespiti ve Train ve Test olarak veri setinin bölünmesi"
   ]
  },
  {
   "cell_type": "code",
   "execution_count": 11,
   "metadata": {},
   "outputs": [
    {
     "name": "stdout",
     "output_type": "stream",
     "text": [
      "    outlook_overcast  outlook_sunny  temperature  play_no  windy_False\n",
      "11                 1              0           72        0            0\n",
      "2                  1              0           83        0            1\n",
      "13                 0              0           71        1            0\n",
      "9                  0              0           75        0            1\n",
      "1                  0              1           80        1            0\n",
      "7                  0              1           72        1            1\n",
      "10                 0              1           75        0            0\n",
      "3                  0              0           70        0            1\n",
      "0                  0              1           85        1            1\n",
      "5                  0              0           65        1            0\n",
      "12                 1              0           81        0            1\n",
      "   outlook_overcast  outlook_sunny  temperature  play_no  windy_False\n",
      "8                 0              1           69        0            1\n",
      "6                 1              0           64        0            0\n",
      "4                 0              0           68        0            1\n"
     ]
    }
   ],
   "source": [
    "X = df_yeni.iloc[:, 0:5 ]\n",
    "y = df_yeni.iloc[:, -1]\n",
    "\n",
    "from sklearn.model_selection import train_test_split\n",
    "\n",
    "x_train, x_test, y_train, y_test = train_test_split(X, y, test_size=0.2, random_state=0)\n",
    "\n",
    "print(x_train)\n",
    "print(x_test)\n"
   ]
  },
  {
   "cell_type": "markdown",
   "metadata": {},
   "source": [
    "#### 6.MODEL STATS ANALİZİ\n"
   ]
  },
  {
   "cell_type": "code",
   "execution_count": 12,
   "metadata": {},
   "outputs": [
    {
     "name": "stdout",
     "output_type": "stream",
     "text": [
      "STATSMODEL Değerleri:                                  OLS Regression Results                                \n",
      "=======================================================================================\n",
      "Dep. Variable:               humidity   R-squared (uncentered):                   0.988\n",
      "Model:                            OLS   Adj. R-squared (uncentered):              0.982\n",
      "Method:                 Least Squares   F-statistic:                              150.5\n",
      "Date:                Thu, 15 Jul 2021   Prob (F-statistic):                    2.16e-08\n",
      "Time:                        18:16:48   Log-Likelihood:                         -50.533\n",
      "No. Observations:                  14   AIC:                                      111.1\n",
      "Df Residuals:                       9   BIC:                                      114.3\n",
      "Df Model:                           5                                                  \n",
      "Covariance Type:            nonrobust                                                  \n",
      "====================================================================================\n",
      "                       coef    std err          t      P>|t|      [0.025      0.975]\n",
      "------------------------------------------------------------------------------------\n",
      "outlook_overcast    -6.9589      8.729     -0.797      0.446     -26.706      12.788\n",
      "outlook_sunny       -9.2782      7.434     -1.248      0.244     -26.096       7.540\n",
      "temperature          1.1380      0.115      9.868      0.000       0.877       1.399\n",
      "play_no              6.3856      7.937      0.804      0.442     -11.570      24.341\n",
      "windy_False          1.2241      6.848      0.179      0.862     -14.267      16.715\n",
      "==============================================================================\n",
      "Omnibus:                        1.370   Durbin-Watson:                   2.491\n",
      "Prob(Omnibus):                  0.504   Jarque-Bera (JB):                1.093\n",
      "Skew:                           0.515   Prob(JB):                        0.579\n",
      "Kurtosis:                       2.097   Cond. No.                         268.\n",
      "==============================================================================\n",
      "\n",
      "Warnings:\n",
      "[1] Standard Errors assume that the covariance matrix of the errors is correctly specified.\n"
     ]
    },
    {
     "name": "stderr",
     "output_type": "stream",
     "text": [
      "C:\\ProgramData\\Anaconda3\\lib\\site-packages\\scipy\\stats\\stats.py:1535: UserWarning: kurtosistest only valid for n>=20 ... continuing anyway, n=14\n",
      "  \"anyway, n=%i\" % int(n))\n"
     ]
    }
   ],
   "source": [
    "import statsmodels.api as sm\n",
    "\n",
    "lineerModelSTATS = sm.OLS(y, X) #OLS modelini kuruyoruz.\n",
    "\n",
    "modelSTATS = lineerModelSTATS.fit()\n",
    "\n",
    "print(\"STATSMODEL Değerleri:\", modelSTATS.summary() )"
   ]
  },
  {
   "cell_type": "markdown",
   "metadata": {},
   "source": [
    "#### 7. Lineer Regression Modelinin Kurulması"
   ]
  },
  {
   "cell_type": "code",
   "execution_count": 13,
   "metadata": {},
   "outputs": [
    {
     "data": {
      "text/plain": [
       "LinearRegression(copy_X=True, fit_intercept=True, n_jobs=None, normalize=False)"
      ]
     },
     "execution_count": 13,
     "metadata": {},
     "output_type": "execute_result"
    }
   ],
   "source": [
    "from sklearn.linear_model import LinearRegression\n",
    "\n",
    "ML_REG = LinearRegression()\n",
    "\n",
    "model = ML_REG.fit(x_train, y_train)\n",
    "\n",
    "model"
   ]
  },
  {
   "cell_type": "markdown",
   "metadata": {},
   "source": [
    "#### 8. Model Intercept_(sabit) ve Coef_(katasayılar) Bulunması"
   ]
  },
  {
   "cell_type": "code",
   "execution_count": 14,
   "metadata": {},
   "outputs": [
    {
     "name": "stdout",
     "output_type": "stream",
     "text": [
      "Sabit değerimiz:intercept_:102.20621386439295\n",
      "Katsayılarımız:coef_:[ 4.16755241  1.95035917 -0.34701863  5.95614086  6.88754891]\n"
     ]
    }
   ],
   "source": [
    "print(f\"Sabit değerimiz:intercept_:{model.intercept_}\")\n",
    "print(f\"Katsayılarımız:coef_:{model.coef_}\")"
   ]
  },
  {
   "cell_type": "markdown",
   "metadata": {},
   "source": [
    "#### Test datasından tahmin işlemi yapalım"
   ]
  },
  {
   "cell_type": "code",
   "execution_count": 19,
   "metadata": {},
   "outputs": [
    {
     "name": "stdout",
     "output_type": "stream",
     "text": [
      "  Tahmin Edilen Gerçek Olan\n",
      "8     87.099836        70.0\n",
      "6     84.164574        65.0\n",
      "4     85.496496        80.0\n",
      "Performans: -4.9134008894307595\n"
     ]
    }
   ],
   "source": [
    "y_prediction = ML_REG.predict(x_test)\n",
    "\n",
    "y_prediction\n",
    "\n",
    "#Bunları bir data frame haline getirelim;\n",
    "\n",
    "y_guess = pd.DataFrame(data= y_prediction)\n",
    "y_testx = pd.DataFrame(data= y_test)\n",
    "\n",
    "y_guess.index = y_testx.index # bunu yapmaz isek NaN geliyor karşlıklı\n",
    "\n",
    "y_guess.head(10)\n",
    "\n",
    "result = pd.concat([y_guess, y_testx], axis=1)\n",
    "result.columns = [[\"Tahmin Edilen\", \"Gerçek Olan\"]]\n",
    "\n",
    "\n",
    "print(result)\n",
    "\n",
    "from sklearn.metrics import r2_score\n",
    "\n",
    "print(\"Performans:\", r2_score(y_testx, y_prediction))\n"
   ]
  },
  {
   "cell_type": "code",
   "execution_count": 20,
   "metadata": {},
   "outputs": [],
   "source": [
    "# GUI KISMI\n",
    "\n",
    "from tkinter import *\n",
    "from tkinter import ttk\n",
    "from tkinter import messagebox\n",
    "\n",
    "# Hata mesaj fonksoynu\n",
    "\n",
    "def mesaj(titx,msx):\n",
    "    msg = messagebox.showinfo(titx,msx)\n",
    "    \n",
    "# modele yeni e\n",
    "def tahmin_yap():\n",
    "    label_nem.config(text=\"\") \n",
    "    try:\n",
    "           \n",
    "        if entry_outlook.get() ==\"\" or entry_degree.get() ==\"\" :\n",
    "            raise ValueError(\"Boş değer bırakmayınız.\")\n",
    "\n",
    "        # \n",
    "        if entry_outlook.get()==\"Evet\":\n",
    "            outlookx = 1\n",
    "        else:\n",
    "            outlookx = 0\n",
    "\n",
    "        #entry_outlookx = model.coef_[0][0] * outlookx\n",
    "        #entry_degreex = model.coef_[0][1]* int(entry_degree.get())\n",
    "\n",
    "\n",
    "        # nem  hesaplanması \n",
    "        nemx = 85.18464560484531 + (-0.25617941)* outlookx + (-0.00965788) * float(entry_degree.get())\n",
    "        #print(f\"intercept{model.intercept_[0]} \\\n",
    "        #outlook==> model.coef_ {model.coef_[0][0]} * {outlookx} + \\\n",
    "        #degree==> model.coef_{model.coef_[0][1]} * {int(entry_degree.get())} \")\n",
    "\n",
    "        label_nem.config(text=nemx)\n",
    "\n",
    "        entry_outlook.delete(0, END)\n",
    "        entry_degree.delete(0, END)\n",
    "\n",
    "    except Exception as e:\n",
    "        print(\"Hata oluştu\", str(e))\n",
    "        mesaj(\"Hata\", str(e))\n",
    "    \n",
    "    \n",
    "# GUI arayüz kutusu ayarları    \n",
    "window = Tk()\n",
    "window.title(\"Hava Nemlilik Tahmin Programı\")\n",
    "window.geometry('600x400+400+150')\n",
    "\n",
    "\n",
    "# Sıcaklık\n",
    "label_degree = Label(window, text=\"Sıcaklık\")\n",
    "label_degree.place(x= 5, y= 35)\n",
    "entry_degree = Entry(window, bd= 2, width=23)\n",
    "entry_degree.place(x= 160, y= 35)  \n",
    "\n",
    "# Hava durumu yağmurlu mu (E/H)\n",
    "label_outlook = Label(window, text= \"Hava yağmurlu mu? <E/H>\")\n",
    "label_outlook.place(x= 5, y= 85)\n",
    "entry_outlook = ttk.Combobox(window)\n",
    "entry_outlook[\"values\"] =  (\"Evet\", \"Hayır\")\n",
    "entry_outlook.place(x=160,y=85)\n",
    "\n",
    "\n",
    "# Predict Button\n",
    "predict_buton = Button(window, text =\"Tahmin Et!\" ,command=tahmin_yap, width=9, bg=\"purple\", fg=\"white\")\n",
    "predict_buton.place(x=140,y=125)\n",
    "\n",
    "label_text = Label(window, text= \"NEM DURUMU: \", bg='white', fg='black', font='Times 15')\n",
    "label_text.place(x=90,y=210)\n",
    "label_nem = Label(window, text= \"<R E S U L T>\", bg='green', fg='black', font='Times 25')\n",
    "label_nem.place(x=240,y=200)\n",
    "\n",
    "window.mainloop()"
   ]
  },
  {
   "cell_type": "markdown",
   "metadata": {},
   "source": [
    "## POLİNOM REGRESYON (Polynomial Regression)"
   ]
  },
  {
   "cell_type": "code",
   "execution_count": 3,
   "metadata": {},
   "outputs": [
    {
     "data": {
      "text/html": [
       "<div>\n",
       "<style scoped>\n",
       "    .dataframe tbody tr th:only-of-type {\n",
       "        vertical-align: middle;\n",
       "    }\n",
       "\n",
       "    .dataframe tbody tr th {\n",
       "        vertical-align: top;\n",
       "    }\n",
       "\n",
       "    .dataframe thead th {\n",
       "        text-align: right;\n",
       "    }\n",
       "</style>\n",
       "<table border=\"1\" class=\"dataframe\">\n",
       "  <thead>\n",
       "    <tr style=\"text-align: right;\">\n",
       "      <th></th>\n",
       "      <th>unvan</th>\n",
       "      <th>Egitim Seviyesi</th>\n",
       "      <th>maas</th>\n",
       "    </tr>\n",
       "  </thead>\n",
       "  <tbody>\n",
       "    <tr>\n",
       "      <th>0</th>\n",
       "      <td>Cayci</td>\n",
       "      <td>1</td>\n",
       "      <td>2250</td>\n",
       "    </tr>\n",
       "    <tr>\n",
       "      <th>1</th>\n",
       "      <td>Sekreter</td>\n",
       "      <td>2</td>\n",
       "      <td>2500</td>\n",
       "    </tr>\n",
       "    <tr>\n",
       "      <th>2</th>\n",
       "      <td>Uzman Yardimcisi</td>\n",
       "      <td>3</td>\n",
       "      <td>3000</td>\n",
       "    </tr>\n",
       "    <tr>\n",
       "      <th>3</th>\n",
       "      <td>Uzman</td>\n",
       "      <td>4</td>\n",
       "      <td>4000</td>\n",
       "    </tr>\n",
       "    <tr>\n",
       "      <th>4</th>\n",
       "      <td>Proje Yoneticisi</td>\n",
       "      <td>5</td>\n",
       "      <td>5500</td>\n",
       "    </tr>\n",
       "    <tr>\n",
       "      <th>5</th>\n",
       "      <td>Sef</td>\n",
       "      <td>6</td>\n",
       "      <td>7500</td>\n",
       "    </tr>\n",
       "    <tr>\n",
       "      <th>6</th>\n",
       "      <td>Mudur</td>\n",
       "      <td>7</td>\n",
       "      <td>10000</td>\n",
       "    </tr>\n",
       "    <tr>\n",
       "      <th>7</th>\n",
       "      <td>Direktor</td>\n",
       "      <td>8</td>\n",
       "      <td>15000</td>\n",
       "    </tr>\n",
       "    <tr>\n",
       "      <th>8</th>\n",
       "      <td>C-level</td>\n",
       "      <td>9</td>\n",
       "      <td>25000</td>\n",
       "    </tr>\n",
       "    <tr>\n",
       "      <th>9</th>\n",
       "      <td>CEO</td>\n",
       "      <td>10</td>\n",
       "      <td>50000</td>\n",
       "    </tr>\n",
       "  </tbody>\n",
       "</table>\n",
       "</div>"
      ],
      "text/plain": [
       "              unvan  Egitim Seviyesi   maas\n",
       "0             Cayci                1   2250\n",
       "1          Sekreter                2   2500\n",
       "2  Uzman Yardimcisi                3   3000\n",
       "3             Uzman                4   4000\n",
       "4  Proje Yoneticisi                5   5500\n",
       "5               Sef                6   7500\n",
       "6             Mudur                7  10000\n",
       "7          Direktor                8  15000\n",
       "8           C-level                9  25000\n",
       "9               CEO               10  50000"
      ]
     },
     "execution_count": 3,
     "metadata": {},
     "output_type": "execute_result"
    }
   ],
   "source": [
    "#1.kütüphaneler\n",
    "\n",
    "import numpy as np\n",
    "import pandas as pd\n",
    "import matplotlib.pyplot as plt\n",
    "\n",
    "#veri yükleme\n",
    "veriler = pd.read_csv(\"Verisetleri\\salaries.csv\")\n",
    "\n",
    "veriler\n"
   ]
  },
  {
   "cell_type": "code",
   "execution_count": 4,
   "metadata": {},
   "outputs": [],
   "source": [
    "#Bağımlı ve Bağımsız değişkenlerin tespiti\n",
    "\n",
    "x = veriler.iloc[:, 1: 2 ] # Eğitim seviyesi\n",
    "y = veriler.iloc[:, -1:] #maas\n"
   ]
  },
  {
   "cell_type": "code",
   "execution_count": 5,
   "metadata": {},
   "outputs": [
    {
     "data": {
      "image/png": "[encoded data removed]",
      "text/plain": [
       "<Figure size 432x288 with 1 Axes>"
      ]
     },
     "metadata": {
      "needs_background": "light"
     },
     "output_type": "display_data"
    }
   ],
   "source": [
    "# Lineer Regresyon yapalım.\n",
    "\n",
    "from sklearn.linear_model import LinearRegression\n",
    "\n",
    "lin_reg = LinearRegression()\n",
    "lin_reg.fit(x, y)\n",
    "\n",
    "plt.scatter(x, y, color=\"red\")\n",
    "plt.plot(x, lin_reg.predict(x), color=\"blue\")\n",
    "plt.show()\n"
   ]
  },
  {
   "cell_type": "code",
   "execution_count": 15,
   "metadata": {},
   "outputs": [
    {
     "name": "stdout",
     "output_type": "stream",
     "text": [
      "[[  1.   1.   1.]\n",
      " [  1.   2.   4.]\n",
      " [  1.   3.   9.]\n",
      " [  1.   4.  16.]\n",
      " [  1.   5.  25.]\n",
      " [  1.   6.  36.]\n",
      " [  1.   7.  49.]\n",
      " [  1.   8.  64.]\n",
      " [  1.   9.  81.]\n",
      " [  1.  10. 100.]]\n"
     ]
    },
    {
     "data": {
      "image/png": "[encoded data removed]",
      "text/plain": [
       "<Figure size 432x288 with 1 Axes>"
      ]
     },
     "metadata": {
      "needs_background": "light"
     },
     "output_type": "display_data"
    }
   ],
   "source": [
    "# Polynomial Regression\n",
    "\n",
    "from sklearn.preprocessing import PolynomialFeatures\n",
    "\n",
    "poly_reg = PolynomialFeatures(degree= 2 )\n",
    "x_poly = poly_reg.fit_transform(x)\n",
    "print(x_poly)\n",
    "\n",
    "lin_reg2 = LinearRegression()\n",
    "lin_reg2.fit(x_poly, y )\n",
    "\n",
    "plt.scatter(x, y, color='red')\n",
    "plt.plot(x, lin_reg2.predict(poly_reg.fit_transform(x)), color=\"blue\")\n",
    "plt.show()\n"
   ]
  },
  {
   "cell_type": "code",
   "execution_count": 16,
   "metadata": {},
   "outputs": [
    {
     "name": "stdout",
     "output_type": "stream",
     "text": [
      "[[1.000e+00 1.000e+00 1.000e+00 1.000e+00 1.000e+00]\n",
      " [1.000e+00 2.000e+00 4.000e+00 8.000e+00 1.600e+01]\n",
      " [1.000e+00 3.000e+00 9.000e+00 2.700e+01 8.100e+01]\n",
      " [1.000e+00 4.000e+00 1.600e+01 6.400e+01 2.560e+02]\n",
      " [1.000e+00 5.000e+00 2.500e+01 1.250e+02 6.250e+02]\n",
      " [1.000e+00 6.000e+00 3.600e+01 2.160e+02 1.296e+03]\n",
      " [1.000e+00 7.000e+00 4.900e+01 3.430e+02 2.401e+03]\n",
      " [1.000e+00 8.000e+00 6.400e+01 5.120e+02 4.096e+03]\n",
      " [1.000e+00 9.000e+00 8.100e+01 7.290e+02 6.561e+03]\n",
      " [1.000e+00 1.000e+01 1.000e+02 1.000e+03 1.000e+04]]\n"
     ]
    },
    {
     "data": {
      "image/png": "[encoded data removed]",
      "text/plain": [
       "<Figure size 432x288 with 1 Axes>"
      ]
     },
     "metadata": {
      "needs_background": "light"
     },
     "output_type": "display_data"
    }
   ],
   "source": [
    "\n",
    "from sklearn.preprocessing import PolynomialFeatures\n",
    "\n",
    "poly_reg = PolynomialFeatures(degree= 4 )\n",
    "x_poly = poly_reg.fit_transform(x)\n",
    "print(x_poly)\n",
    "\n",
    "lin_reg2 = LinearRegression()\n",
    "lin_reg2.fit(x_poly, y )\n",
    "\n",
    "plt.scatter(x, y, color='red')\n",
    "plt.plot(x, lin_reg2.predict(poly_reg.fit_transform(x)), color=\"blue\")\n",
    "plt.show()"
   ]
  },
  {
   "cell_type": "markdown",
   "metadata": {},
   "source": [
    "### Advertising Datası Üzerinden Polynomail Regression "
   ]
  },
  {
   "cell_type": "code",
   "execution_count": 2,
   "metadata": {},
   "outputs": [],
   "source": [
    "import numpy as np\n",
    "import pandas as pd\n",
    "import matplotlib.pyplot as plt\n",
    "import seaborn as sns"
   ]
  },
  {
   "cell_type": "code",
   "execution_count": 3,
   "metadata": {},
   "outputs": [],
   "source": [
    "from sklearn.preprocessing import PolynomialFeatures\n"
   ]
  },
  {
   "cell_type": "code",
   "execution_count": 4,
   "metadata": {},
   "outputs": [
    {
     "data": {
      "text/plain": [
       "array([[2, 3, 4]])"
      ]
     },
     "execution_count": 4,
     "metadata": {},
     "output_type": "execute_result"
    }
   ],
   "source": [
    "veri = np.array([[2,3,4]])\n",
    "\n",
    "\n",
    "veri"
   ]
  },
  {
   "cell_type": "code",
   "execution_count": 5,
   "metadata": {},
   "outputs": [
    {
     "data": {
      "text/plain": [
       "PolynomialFeatures(degree=2, include_bias=False, interaction_only=False,\n",
       "                   order='C')"
      ]
     },
     "execution_count": 5,
     "metadata": {},
     "output_type": "execute_result"
    }
   ],
   "source": [
    "# x, y, z = x2, y2, z2, xy, xz, yz\n",
    "\n",
    "convert = PolynomialFeatures(degree=2, include_bias = False)\n",
    "\n",
    "convert "
   ]
  },
  {
   "cell_type": "code",
   "execution_count": 6,
   "metadata": {},
   "outputs": [
    {
     "name": "stdout",
     "output_type": "stream",
     "text": [
      "[[ 2.  3.  4.  4.  6.  8.  9. 12. 16.]]\n"
     ]
    }
   ],
   "source": [
    "veri2 = convert.fit_transform(veri)\n",
    "\n",
    "print(veri2)"
   ]
  },
  {
   "cell_type": "code",
   "execution_count": 7,
   "metadata": {},
   "outputs": [
    {
     "data": {
      "text/html": [
       "<div>\n",
       "<style scoped>\n",
       "    .dataframe tbody tr th:only-of-type {\n",
       "        vertical-align: middle;\n",
       "    }\n",
       "\n",
       "    .dataframe tbody tr th {\n",
       "        vertical-align: top;\n",
       "    }\n",
       "\n",
       "    .dataframe thead th {\n",
       "        text-align: right;\n",
       "    }\n",
       "</style>\n",
       "<table border=\"1\" class=\"dataframe\">\n",
       "  <thead>\n",
       "    <tr style=\"text-align: right;\">\n",
       "      <th></th>\n",
       "      <th>Unnamed: 0</th>\n",
       "      <th>TV</th>\n",
       "      <th>radio</th>\n",
       "      <th>newspaper</th>\n",
       "      <th>sales</th>\n",
       "    </tr>\n",
       "  </thead>\n",
       "  <tbody>\n",
       "    <tr>\n",
       "      <th>0</th>\n",
       "      <td>1</td>\n",
       "      <td>230.1</td>\n",
       "      <td>37.8</td>\n",
       "      <td>69.2</td>\n",
       "      <td>22.1</td>\n",
       "    </tr>\n",
       "    <tr>\n",
       "      <th>1</th>\n",
       "      <td>2</td>\n",
       "      <td>44.5</td>\n",
       "      <td>39.3</td>\n",
       "      <td>45.1</td>\n",
       "      <td>10.4</td>\n",
       "    </tr>\n",
       "    <tr>\n",
       "      <th>2</th>\n",
       "      <td>3</td>\n",
       "      <td>17.2</td>\n",
       "      <td>45.9</td>\n",
       "      <td>69.3</td>\n",
       "      <td>9.3</td>\n",
       "    </tr>\n",
       "    <tr>\n",
       "      <th>3</th>\n",
       "      <td>4</td>\n",
       "      <td>151.5</td>\n",
       "      <td>41.3</td>\n",
       "      <td>58.5</td>\n",
       "      <td>18.5</td>\n",
       "    </tr>\n",
       "    <tr>\n",
       "      <th>4</th>\n",
       "      <td>5</td>\n",
       "      <td>180.8</td>\n",
       "      <td>10.8</td>\n",
       "      <td>58.4</td>\n",
       "      <td>12.9</td>\n",
       "    </tr>\n",
       "    <tr>\n",
       "      <th>...</th>\n",
       "      <td>...</td>\n",
       "      <td>...</td>\n",
       "      <td>...</td>\n",
       "      <td>...</td>\n",
       "      <td>...</td>\n",
       "    </tr>\n",
       "    <tr>\n",
       "      <th>195</th>\n",
       "      <td>196</td>\n",
       "      <td>38.2</td>\n",
       "      <td>3.7</td>\n",
       "      <td>13.8</td>\n",
       "      <td>7.6</td>\n",
       "    </tr>\n",
       "    <tr>\n",
       "      <th>196</th>\n",
       "      <td>197</td>\n",
       "      <td>94.2</td>\n",
       "      <td>4.9</td>\n",
       "      <td>8.1</td>\n",
       "      <td>9.7</td>\n",
       "    </tr>\n",
       "    <tr>\n",
       "      <th>197</th>\n",
       "      <td>198</td>\n",
       "      <td>177.0</td>\n",
       "      <td>9.3</td>\n",
       "      <td>6.4</td>\n",
       "      <td>12.8</td>\n",
       "    </tr>\n",
       "    <tr>\n",
       "      <th>198</th>\n",
       "      <td>199</td>\n",
       "      <td>283.6</td>\n",
       "      <td>42.0</td>\n",
       "      <td>66.2</td>\n",
       "      <td>25.5</td>\n",
       "    </tr>\n",
       "    <tr>\n",
       "      <th>199</th>\n",
       "      <td>200</td>\n",
       "      <td>232.1</td>\n",
       "      <td>8.6</td>\n",
       "      <td>8.7</td>\n",
       "      <td>13.4</td>\n",
       "    </tr>\n",
       "  </tbody>\n",
       "</table>\n",
       "<p>200 rows × 5 columns</p>\n",
       "</div>"
      ],
      "text/plain": [
       "     Unnamed: 0     TV  radio  newspaper  sales\n",
       "0             1  230.1   37.8       69.2   22.1\n",
       "1             2   44.5   39.3       45.1   10.4\n",
       "2             3   17.2   45.9       69.3    9.3\n",
       "3             4  151.5   41.3       58.5   18.5\n",
       "4             5  180.8   10.8       58.4   12.9\n",
       "..          ...    ...    ...        ...    ...\n",
       "195         196   38.2    3.7       13.8    7.6\n",
       "196         197   94.2    4.9        8.1    9.7\n",
       "197         198  177.0    9.3        6.4   12.8\n",
       "198         199  283.6   42.0       66.2   25.5\n",
       "199         200  232.1    8.6        8.7   13.4\n",
       "\n",
       "[200 rows x 5 columns]"
      ]
     },
     "execution_count": 7,
     "metadata": {},
     "output_type": "execute_result"
    }
   ],
   "source": [
    "df = pd.read_csv(\"Verisetleri\\Advertising.csv\")\n",
    "\n",
    "df"
   ]
  },
  {
   "cell_type": "code",
   "execution_count": 8,
   "metadata": {},
   "outputs": [
    {
     "data": {
      "text/html": [
       "<div>\n",
       "<style scoped>\n",
       "    .dataframe tbody tr th:only-of-type {\n",
       "        vertical-align: middle;\n",
       "    }\n",
       "\n",
       "    .dataframe tbody tr th {\n",
       "        vertical-align: top;\n",
       "    }\n",
       "\n",
       "    .dataframe thead th {\n",
       "        text-align: right;\n",
       "    }\n",
       "</style>\n",
       "<table border=\"1\" class=\"dataframe\">\n",
       "  <thead>\n",
       "    <tr style=\"text-align: right;\">\n",
       "      <th></th>\n",
       "      <th>TV</th>\n",
       "      <th>radio</th>\n",
       "      <th>newspaper</th>\n",
       "      <th>sales</th>\n",
       "    </tr>\n",
       "  </thead>\n",
       "  <tbody>\n",
       "    <tr>\n",
       "      <th>0</th>\n",
       "      <td>230.1</td>\n",
       "      <td>37.8</td>\n",
       "      <td>69.2</td>\n",
       "      <td>22.1</td>\n",
       "    </tr>\n",
       "    <tr>\n",
       "      <th>1</th>\n",
       "      <td>44.5</td>\n",
       "      <td>39.3</td>\n",
       "      <td>45.1</td>\n",
       "      <td>10.4</td>\n",
       "    </tr>\n",
       "    <tr>\n",
       "      <th>2</th>\n",
       "      <td>17.2</td>\n",
       "      <td>45.9</td>\n",
       "      <td>69.3</td>\n",
       "      <td>9.3</td>\n",
       "    </tr>\n",
       "    <tr>\n",
       "      <th>3</th>\n",
       "      <td>151.5</td>\n",
       "      <td>41.3</td>\n",
       "      <td>58.5</td>\n",
       "      <td>18.5</td>\n",
       "    </tr>\n",
       "    <tr>\n",
       "      <th>4</th>\n",
       "      <td>180.8</td>\n",
       "      <td>10.8</td>\n",
       "      <td>58.4</td>\n",
       "      <td>12.9</td>\n",
       "    </tr>\n",
       "    <tr>\n",
       "      <th>...</th>\n",
       "      <td>...</td>\n",
       "      <td>...</td>\n",
       "      <td>...</td>\n",
       "      <td>...</td>\n",
       "    </tr>\n",
       "    <tr>\n",
       "      <th>195</th>\n",
       "      <td>38.2</td>\n",
       "      <td>3.7</td>\n",
       "      <td>13.8</td>\n",
       "      <td>7.6</td>\n",
       "    </tr>\n",
       "    <tr>\n",
       "      <th>196</th>\n",
       "      <td>94.2</td>\n",
       "      <td>4.9</td>\n",
       "      <td>8.1</td>\n",
       "      <td>9.7</td>\n",
       "    </tr>\n",
       "    <tr>\n",
       "      <th>197</th>\n",
       "      <td>177.0</td>\n",
       "      <td>9.3</td>\n",
       "      <td>6.4</td>\n",
       "      <td>12.8</td>\n",
       "    </tr>\n",
       "    <tr>\n",
       "      <th>198</th>\n",
       "      <td>283.6</td>\n",
       "      <td>42.0</td>\n",
       "      <td>66.2</td>\n",
       "      <td>25.5</td>\n",
       "    </tr>\n",
       "    <tr>\n",
       "      <th>199</th>\n",
       "      <td>232.1</td>\n",
       "      <td>8.6</td>\n",
       "      <td>8.7</td>\n",
       "      <td>13.4</td>\n",
       "    </tr>\n",
       "  </tbody>\n",
       "</table>\n",
       "<p>200 rows × 4 columns</p>\n",
       "</div>"
      ],
      "text/plain": [
       "        TV  radio  newspaper  sales\n",
       "0    230.1   37.8       69.2   22.1\n",
       "1     44.5   39.3       45.1   10.4\n",
       "2     17.2   45.9       69.3    9.3\n",
       "3    151.5   41.3       58.5   18.5\n",
       "4    180.8   10.8       58.4   12.9\n",
       "..     ...    ...        ...    ...\n",
       "195   38.2    3.7       13.8    7.6\n",
       "196   94.2    4.9        8.1    9.7\n",
       "197  177.0    9.3        6.4   12.8\n",
       "198  283.6   42.0       66.2   25.5\n",
       "199  232.1    8.6        8.7   13.4\n",
       "\n",
       "[200 rows x 4 columns]"
      ]
     },
     "execution_count": 8,
     "metadata": {},
     "output_type": "execute_result"
    }
   ],
   "source": [
    "df2 = df.iloc[:, 1:5]\n",
    "\n",
    "df2"
   ]
  },
  {
   "cell_type": "code",
   "execution_count": 9,
   "metadata": {},
   "outputs": [],
   "source": [
    "X = df2.drop(\"sales\", axis=1) # Bağımsız değişkenlerimiz\n",
    "y = df2.sales\n",
    "\n"
   ]
  },
  {
   "cell_type": "code",
   "execution_count": 10,
   "metadata": {},
   "outputs": [
    {
     "data": {
      "text/plain": [
       "PolynomialFeatures(degree=2, include_bias=False, interaction_only=False,\n",
       "                   order='C')"
      ]
     },
     "execution_count": 10,
     "metadata": {},
     "output_type": "execute_result"
    }
   ],
   "source": [
    "# Dönüştürücüyü yapalım.\n",
    "\n",
    "polynomial_converter = PolynomialFeatures(degree=2, include_bias=False)\n",
    "\n",
    "polynomial_converter"
   ]
  },
  {
   "cell_type": "code",
   "execution_count": 11,
   "metadata": {},
   "outputs": [
    {
     "data": {
      "text/plain": [
       "PolynomialFeatures(degree=2, include_bias=False, interaction_only=False,\n",
       "                   order='C')"
      ]
     },
     "execution_count": 11,
     "metadata": {},
     "output_type": "execute_result"
    }
   ],
   "source": [
    "polynomial_converter.fit(X)"
   ]
  },
  {
   "cell_type": "code",
   "execution_count": 41,
   "metadata": {},
   "outputs": [
    {
     "data": {
      "text/plain": [
       "array([[ 230.1 ,   37.8 ,   69.2 , ..., 1428.84, 2615.76, 4788.64],\n",
       "       [  44.5 ,   39.3 ,   45.1 , ..., 1544.49, 1772.43, 2034.01],\n",
       "       [  17.2 ,   45.9 ,   69.3 , ..., 2106.81, 3180.87, 4802.49],\n",
       "       ...,\n",
       "       [ 177.  ,    9.3 ,    6.4 , ...,   86.49,   59.52,   40.96],\n",
       "       [ 283.6 ,   42.  ,   66.2 , ..., 1764.  , 2780.4 , 4382.44],\n",
       "       [ 232.1 ,    8.6 ,    8.7 , ...,   73.96,   74.82,   75.69]])"
      ]
     },
     "execution_count": 41,
     "metadata": {},
     "output_type": "execute_result"
    }
   ],
   "source": [
    "# Transform. Dönüştürücüyü uygulayalım.\n",
    "\n",
    "pol_features = polynomial_converter.transform(X)\n",
    "\n",
    "pol_features"
   ]
  },
  {
   "cell_type": "code",
   "execution_count": 42,
   "metadata": {},
   "outputs": [
    {
     "data": {
      "text/plain": [
       "(200, 9)"
      ]
     },
     "execution_count": 42,
     "metadata": {},
     "output_type": "execute_result"
    }
   ],
   "source": [
    "pol_features.shape"
   ]
  },
  {
   "cell_type": "code",
   "execution_count": 43,
   "metadata": {},
   "outputs": [
    {
     "data": {
      "text/html": [
       "<div>\n",
       "<style scoped>\n",
       "    .dataframe tbody tr th:only-of-type {\n",
       "        vertical-align: middle;\n",
       "    }\n",
       "\n",
       "    .dataframe tbody tr th {\n",
       "        vertical-align: top;\n",
       "    }\n",
       "\n",
       "    .dataframe thead th {\n",
       "        text-align: right;\n",
       "    }\n",
       "</style>\n",
       "<table border=\"1\" class=\"dataframe\">\n",
       "  <thead>\n",
       "    <tr style=\"text-align: right;\">\n",
       "      <th></th>\n",
       "      <th>TV</th>\n",
       "      <th>radio</th>\n",
       "      <th>newspaper</th>\n",
       "      <th>TV**2</th>\n",
       "      <th>TV&amp;radio</th>\n",
       "      <th>TV&amp;newspaper</th>\n",
       "      <th>radio**2</th>\n",
       "      <th>radio&amp;newspaper</th>\n",
       "      <th>newspaper **2</th>\n",
       "    </tr>\n",
       "  </thead>\n",
       "  <tbody>\n",
       "    <tr>\n",
       "      <th>0</th>\n",
       "      <td>230.1</td>\n",
       "      <td>37.8</td>\n",
       "      <td>69.2</td>\n",
       "      <td>52946.01</td>\n",
       "      <td>8697.78</td>\n",
       "      <td>15922.92</td>\n",
       "      <td>1428.84</td>\n",
       "      <td>2615.76</td>\n",
       "      <td>4788.64</td>\n",
       "    </tr>\n",
       "    <tr>\n",
       "      <th>1</th>\n",
       "      <td>44.5</td>\n",
       "      <td>39.3</td>\n",
       "      <td>45.1</td>\n",
       "      <td>1980.25</td>\n",
       "      <td>1748.85</td>\n",
       "      <td>2006.95</td>\n",
       "      <td>1544.49</td>\n",
       "      <td>1772.43</td>\n",
       "      <td>2034.01</td>\n",
       "    </tr>\n",
       "    <tr>\n",
       "      <th>2</th>\n",
       "      <td>17.2</td>\n",
       "      <td>45.9</td>\n",
       "      <td>69.3</td>\n",
       "      <td>295.84</td>\n",
       "      <td>789.48</td>\n",
       "      <td>1191.96</td>\n",
       "      <td>2106.81</td>\n",
       "      <td>3180.87</td>\n",
       "      <td>4802.49</td>\n",
       "    </tr>\n",
       "    <tr>\n",
       "      <th>3</th>\n",
       "      <td>151.5</td>\n",
       "      <td>41.3</td>\n",
       "      <td>58.5</td>\n",
       "      <td>22952.25</td>\n",
       "      <td>6256.95</td>\n",
       "      <td>8862.75</td>\n",
       "      <td>1705.69</td>\n",
       "      <td>2416.05</td>\n",
       "      <td>3422.25</td>\n",
       "    </tr>\n",
       "    <tr>\n",
       "      <th>4</th>\n",
       "      <td>180.8</td>\n",
       "      <td>10.8</td>\n",
       "      <td>58.4</td>\n",
       "      <td>32688.64</td>\n",
       "      <td>1952.64</td>\n",
       "      <td>10558.72</td>\n",
       "      <td>116.64</td>\n",
       "      <td>630.72</td>\n",
       "      <td>3410.56</td>\n",
       "    </tr>\n",
       "    <tr>\n",
       "      <th>...</th>\n",
       "      <td>...</td>\n",
       "      <td>...</td>\n",
       "      <td>...</td>\n",
       "      <td>...</td>\n",
       "      <td>...</td>\n",
       "      <td>...</td>\n",
       "      <td>...</td>\n",
       "      <td>...</td>\n",
       "      <td>...</td>\n",
       "    </tr>\n",
       "    <tr>\n",
       "      <th>195</th>\n",
       "      <td>38.2</td>\n",
       "      <td>3.7</td>\n",
       "      <td>13.8</td>\n",
       "      <td>1459.24</td>\n",
       "      <td>141.34</td>\n",
       "      <td>527.16</td>\n",
       "      <td>13.69</td>\n",
       "      <td>51.06</td>\n",
       "      <td>190.44</td>\n",
       "    </tr>\n",
       "    <tr>\n",
       "      <th>196</th>\n",
       "      <td>94.2</td>\n",
       "      <td>4.9</td>\n",
       "      <td>8.1</td>\n",
       "      <td>8873.64</td>\n",
       "      <td>461.58</td>\n",
       "      <td>763.02</td>\n",
       "      <td>24.01</td>\n",
       "      <td>39.69</td>\n",
       "      <td>65.61</td>\n",
       "    </tr>\n",
       "    <tr>\n",
       "      <th>197</th>\n",
       "      <td>177.0</td>\n",
       "      <td>9.3</td>\n",
       "      <td>6.4</td>\n",
       "      <td>31329.00</td>\n",
       "      <td>1646.10</td>\n",
       "      <td>1132.80</td>\n",
       "      <td>86.49</td>\n",
       "      <td>59.52</td>\n",
       "      <td>40.96</td>\n",
       "    </tr>\n",
       "    <tr>\n",
       "      <th>198</th>\n",
       "      <td>283.6</td>\n",
       "      <td>42.0</td>\n",
       "      <td>66.2</td>\n",
       "      <td>80428.96</td>\n",
       "      <td>11911.20</td>\n",
       "      <td>18774.32</td>\n",
       "      <td>1764.00</td>\n",
       "      <td>2780.40</td>\n",
       "      <td>4382.44</td>\n",
       "    </tr>\n",
       "    <tr>\n",
       "      <th>199</th>\n",
       "      <td>232.1</td>\n",
       "      <td>8.6</td>\n",
       "      <td>8.7</td>\n",
       "      <td>53870.41</td>\n",
       "      <td>1996.06</td>\n",
       "      <td>2019.27</td>\n",
       "      <td>73.96</td>\n",
       "      <td>74.82</td>\n",
       "      <td>75.69</td>\n",
       "    </tr>\n",
       "  </tbody>\n",
       "</table>\n",
       "<p>200 rows × 9 columns</p>\n",
       "</div>"
      ],
      "text/plain": [
       "        TV  radio  newspaper     TV**2  TV&radio  TV&newspaper  radio**2  \\\n",
       "0    230.1   37.8       69.2  52946.01   8697.78      15922.92   1428.84   \n",
       "1     44.5   39.3       45.1   1980.25   1748.85       2006.95   1544.49   \n",
       "2     17.2   45.9       69.3    295.84    789.48       1191.96   2106.81   \n",
       "3    151.5   41.3       58.5  22952.25   6256.95       8862.75   1705.69   \n",
       "4    180.8   10.8       58.4  32688.64   1952.64      10558.72    116.64   \n",
       "..     ...    ...        ...       ...       ...           ...       ...   \n",
       "195   38.2    3.7       13.8   1459.24    141.34        527.16     13.69   \n",
       "196   94.2    4.9        8.1   8873.64    461.58        763.02     24.01   \n",
       "197  177.0    9.3        6.4  31329.00   1646.10       1132.80     86.49   \n",
       "198  283.6   42.0       66.2  80428.96  11911.20      18774.32   1764.00   \n",
       "199  232.1    8.6        8.7  53870.41   1996.06       2019.27     73.96   \n",
       "\n",
       "     radio&newspaper  newspaper **2  \n",
       "0            2615.76        4788.64  \n",
       "1            1772.43        2034.01  \n",
       "2            3180.87        4802.49  \n",
       "3            2416.05        3422.25  \n",
       "4             630.72        3410.56  \n",
       "..               ...            ...  \n",
       "195            51.06         190.44  \n",
       "196            39.69          65.61  \n",
       "197            59.52          40.96  \n",
       "198          2780.40        4382.44  \n",
       "199            74.82          75.69  \n",
       "\n",
       "[200 rows x 9 columns]"
      ]
     },
     "execution_count": 43,
     "metadata": {},
     "output_type": "execute_result"
    }
   ],
   "source": [
    "# Bunu data frame e çevirelim;\n",
    "\n",
    "pd.DataFrame(pol_features, columns=[\"TV\", \"radio\", \"newspaper\", \"TV**2\", \"TV&radio\", \"TV&newspaper\", \"radio**2\", \\\n",
    "                                   \"radio&newspaper\", \"newspaper **2\"])"
   ]
  },
  {
   "cell_type": "code",
   "execution_count": 44,
   "metadata": {},
   "outputs": [],
   "source": [
    "from sklearn.model_selection import train_test_split\n",
    "\n",
    "X_train, X_test, y_train, y_test = train_test_split(pol_features, y, test_size=0.30, random_state=42)\n"
   ]
  },
  {
   "cell_type": "code",
   "execution_count": 46,
   "metadata": {},
   "outputs": [
    {
     "data": {
      "text/plain": [
       "LinearRegression(copy_X=True, fit_intercept=True, n_jobs=None, normalize=False)"
      ]
     },
     "execution_count": 46,
     "metadata": {},
     "output_type": "execute_result"
    }
   ],
   "source": [
    "# Artık modelimizi oluşturabiliriz.\n",
    "\n",
    "from sklearn.linear_model import LinearRegression\n",
    "\n",
    "model_pol = LinearRegression()\n",
    "\n",
    "model_pol.fit(X_train, y_train) #modelimizi eğitiyoruz.\n",
    "# X_train tarafındaki featureları kullanarak, y_train e ulaşmaya çalışacak modeli oluşturmuş oluyoruz.\n"
   ]
  },
  {
   "cell_type": "code",
   "execution_count": 48,
   "metadata": {},
   "outputs": [
    {
     "data": {
      "text/plain": [
       "array([17.22263805, 22.76431942, 20.34240311,  7.63823081, 24.43070212,\n",
       "       12.62670906, 22.77581025,  8.17257308, 12.1434595 , 15.59295774,\n",
       "        7.70321153,  8.13970713, 11.94050296,  6.00239435, 10.52156294,\n",
       "       12.29998882,  6.73498649, 16.59405075, 10.56966577, 19.02896977,\n",
       "       20.15426466, 13.93688799,  9.49270709, 22.09007022,  8.81726594,\n",
       "        7.63831359, 22.36845761, 12.63105172, 10.12142254,  6.02913868,\n",
       "       11.66988463, 10.06960308, 23.4843312 ,  9.85934368, 15.33869793,\n",
       "       21.07332794, 10.9676273 , 20.14554654, 11.74470764,  6.4231513 ,\n",
       "       10.71450186, 12.83429003,  9.18959984,  8.91317752, 11.87160951,\n",
       "        6.97626924,  9.95713385, 14.69620775, 10.1058211 , 11.2550714 ,\n",
       "       14.04197399, 12.14298425,  8.96411937,  7.54429236,  8.39739662,\n",
       "       10.86854626,  9.89471268, 25.23373739,  6.79877024, 11.96203194])"
      ]
     },
     "execution_count": 48,
     "metadata": {},
     "output_type": "execute_result"
    }
   ],
   "source": [
    "# şimdi test datasını tahmin edelim.\n",
    "\n",
    "y_pred = model_pol.predict(X_test)\n",
    "\n",
    "y_pred"
   ]
  },
  {
   "cell_type": "code",
   "execution_count": 66,
   "metadata": {},
   "outputs": [
    {
     "data": {
      "text/html": [
       "<div>\n",
       "<style scoped>\n",
       "    .dataframe tbody tr th:only-of-type {\n",
       "        vertical-align: middle;\n",
       "    }\n",
       "\n",
       "    .dataframe tbody tr th {\n",
       "        vertical-align: top;\n",
       "    }\n",
       "\n",
       "    .dataframe thead th {\n",
       "        text-align: right;\n",
       "    }\n",
       "</style>\n",
       "<table border=\"1\" class=\"dataframe\">\n",
       "  <thead>\n",
       "    <tr style=\"text-align: right;\">\n",
       "      <th></th>\n",
       "      <th>Actual:Gerçek Değerler</th>\n",
       "      <th>Prediction:Tahmin Edilen Değerler</th>\n",
       "    </tr>\n",
       "  </thead>\n",
       "  <tbody>\n",
       "    <tr>\n",
       "      <th>95</th>\n",
       "      <td>16.9</td>\n",
       "      <td>17.222638</td>\n",
       "    </tr>\n",
       "    <tr>\n",
       "      <th>15</th>\n",
       "      <td>22.4</td>\n",
       "      <td>22.764319</td>\n",
       "    </tr>\n",
       "    <tr>\n",
       "      <th>30</th>\n",
       "      <td>21.4</td>\n",
       "      <td>20.342403</td>\n",
       "    </tr>\n",
       "    <tr>\n",
       "      <th>158</th>\n",
       "      <td>7.3</td>\n",
       "      <td>7.638231</td>\n",
       "    </tr>\n",
       "    <tr>\n",
       "      <th>128</th>\n",
       "      <td>24.7</td>\n",
       "      <td>24.430702</td>\n",
       "    </tr>\n",
       "  </tbody>\n",
       "</table>\n",
       "</div>"
      ],
      "text/plain": [
       "     Actual:Gerçek Değerler  Prediction:Tahmin Edilen Değerler\n",
       "95                     16.9                          17.222638\n",
       "15                     22.4                          22.764319\n",
       "30                     21.4                          20.342403\n",
       "158                     7.3                           7.638231\n",
       "128                    24.7                          24.430702"
      ]
     },
     "execution_count": 66,
     "metadata": {},
     "output_type": "execute_result"
    }
   ],
   "source": [
    "my_dict = {\"Actual:Gerçek Değerler\": y_test, \"Prediction:Tahmin Edilen Değerler\":y_pred}\n",
    "\n",
    "gozlem = pd.DataFrame(my_dict)\n",
    "\n",
    "gozlem.head(5)"
   ]
  },
  {
   "cell_type": "code",
   "execution_count": 60,
   "metadata": {},
   "outputs": [
    {
     "data": {
      "text/plain": [
       "<function matplotlib.pyplot.show(*args, **kw)>"
      ]
     },
     "execution_count": 60,
     "metadata": {},
     "output_type": "execute_result"
    },
    {
     "data": {
      "image/png": "[encoded data removed]",
      "text/plain": [
       "<Figure size 1080x432 with 1 Axes>"
      ]
     },
     "metadata": {
      "needs_background": "light"
     },
     "output_type": "display_data"
    }
   ],
   "source": [
    "# Değerleri bir grafik üzerinden gözlemleyelim;\n",
    "\n",
    "gozlem.head(15).plot(kind=\"bar\", figsize=(15,6))\n",
    "plt.show"
   ]
  },
  {
   "cell_type": "code",
   "execution_count": 61,
   "metadata": {},
   "outputs": [
    {
     "data": {
      "text/plain": [
       "array([ 0.05478172,  0.01311214,  0.01086391, -0.00011074,  0.00108048,\n",
       "       -0.00010764,  0.00030191,  0.00017541,  0.00010075])"
      ]
     },
     "execution_count": 61,
     "metadata": {},
     "output_type": "execute_result"
    }
   ],
   "source": [
    "# Coef katsayılarımız nelerdir?\n",
    "\n",
    "model_pol.coef_"
   ]
  },
  {
   "cell_type": "code",
   "execution_count": 64,
   "metadata": {},
   "outputs": [
    {
     "data": {
      "text/html": [
       "<div>\n",
       "<style scoped>\n",
       "    .dataframe tbody tr th:only-of-type {\n",
       "        vertical-align: middle;\n",
       "    }\n",
       "\n",
       "    .dataframe tbody tr th {\n",
       "        vertical-align: top;\n",
       "    }\n",
       "\n",
       "    .dataframe thead th {\n",
       "        text-align: right;\n",
       "    }\n",
       "</style>\n",
       "<table border=\"1\" class=\"dataframe\">\n",
       "  <thead>\n",
       "    <tr style=\"text-align: right;\">\n",
       "      <th></th>\n",
       "      <th>Coef</th>\n",
       "    </tr>\n",
       "  </thead>\n",
       "  <tbody>\n",
       "    <tr>\n",
       "      <th>TV</th>\n",
       "      <td>0.054782</td>\n",
       "    </tr>\n",
       "    <tr>\n",
       "      <th>radio</th>\n",
       "      <td>0.013112</td>\n",
       "    </tr>\n",
       "    <tr>\n",
       "      <th>newspaper</th>\n",
       "      <td>0.010864</td>\n",
       "    </tr>\n",
       "    <tr>\n",
       "      <th>TV**2</th>\n",
       "      <td>-0.000111</td>\n",
       "    </tr>\n",
       "    <tr>\n",
       "      <th>TV&amp;radio</th>\n",
       "      <td>0.001080</td>\n",
       "    </tr>\n",
       "    <tr>\n",
       "      <th>TV&amp;newspaper</th>\n",
       "      <td>-0.000108</td>\n",
       "    </tr>\n",
       "    <tr>\n",
       "      <th>radio**2</th>\n",
       "      <td>0.000302</td>\n",
       "    </tr>\n",
       "    <tr>\n",
       "      <th>radio&amp;newspaper</th>\n",
       "      <td>0.000175</td>\n",
       "    </tr>\n",
       "    <tr>\n",
       "      <th>newspaper **2</th>\n",
       "      <td>0.000101</td>\n",
       "    </tr>\n",
       "  </tbody>\n",
       "</table>\n",
       "</div>"
      ],
      "text/plain": [
       "                     Coef\n",
       "TV               0.054782\n",
       "radio            0.013112\n",
       "newspaper        0.010864\n",
       "TV**2           -0.000111\n",
       "TV&radio         0.001080\n",
       "TV&newspaper    -0.000108\n",
       "radio**2         0.000302\n",
       "radio&newspaper  0.000175\n",
       "newspaper **2    0.000101"
      ]
     },
     "execution_count": 64,
     "metadata": {},
     "output_type": "execute_result"
    }
   ],
   "source": [
    "# Görsel olarak data frame kullanalım;\n",
    "\n",
    "df_coef = pd.DataFrame(model_pol.coef_, index=[\"TV\", \"radio\", \"newspaper\", \"TV**2\", \"TV&radio\", \"TV&newspaper\", \"radio**2\", \\\n",
    "                                   \"radio&newspaper\", \"newspaper **2\"], columns=[\"Coef\"])\n",
    "\n",
    "df_coef"
   ]
  },
  {
   "cell_type": "code",
   "execution_count": 69,
   "metadata": {},
   "outputs": [
    {
     "data": {
      "text/plain": [
       "array([2.301000e+02, 3.780000e+01, 6.920000e+01, 5.294601e+04,\n",
       "       8.697780e+03, 1.592292e+04, 1.428840e+03, 2.615760e+03,\n",
       "       4.788640e+03])"
      ]
     },
     "execution_count": 69,
     "metadata": {},
     "output_type": "execute_result"
    }
   ],
   "source": [
    "# ilk gözlem değerini alalım;\n",
    "\n",
    "pol_features[0]\n"
   ]
  },
  {
   "cell_type": "code",
   "execution_count": 75,
   "metadata": {},
   "outputs": [
    {
     "data": {
      "text/html": [
       "<div>\n",
       "<style scoped>\n",
       "    .dataframe tbody tr th:only-of-type {\n",
       "        vertical-align: middle;\n",
       "    }\n",
       "\n",
       "    .dataframe tbody tr th {\n",
       "        vertical-align: top;\n",
       "    }\n",
       "\n",
       "    .dataframe thead th {\n",
       "        text-align: right;\n",
       "    }\n",
       "</style>\n",
       "<table border=\"1\" class=\"dataframe\">\n",
       "  <thead>\n",
       "    <tr style=\"text-align: right;\">\n",
       "      <th></th>\n",
       "      <th>FeaturesValue</th>\n",
       "    </tr>\n",
       "  </thead>\n",
       "  <tbody>\n",
       "    <tr>\n",
       "      <th>TV</th>\n",
       "      <td>230.10</td>\n",
       "    </tr>\n",
       "    <tr>\n",
       "      <th>radio</th>\n",
       "      <td>37.80</td>\n",
       "    </tr>\n",
       "    <tr>\n",
       "      <th>newspaper</th>\n",
       "      <td>69.20</td>\n",
       "    </tr>\n",
       "    <tr>\n",
       "      <th>TV**2</th>\n",
       "      <td>52946.01</td>\n",
       "    </tr>\n",
       "    <tr>\n",
       "      <th>TV&amp;radio</th>\n",
       "      <td>8697.78</td>\n",
       "    </tr>\n",
       "    <tr>\n",
       "      <th>TV&amp;newspaper</th>\n",
       "      <td>15922.92</td>\n",
       "    </tr>\n",
       "    <tr>\n",
       "      <th>radio**2</th>\n",
       "      <td>1428.84</td>\n",
       "    </tr>\n",
       "    <tr>\n",
       "      <th>radio&amp;newspaper</th>\n",
       "      <td>2615.76</td>\n",
       "    </tr>\n",
       "    <tr>\n",
       "      <th>newspaper **2</th>\n",
       "      <td>4788.64</td>\n",
       "    </tr>\n",
       "  </tbody>\n",
       "</table>\n",
       "</div>"
      ],
      "text/plain": [
       "                 FeaturesValue\n",
       "TV                      230.10\n",
       "radio                    37.80\n",
       "newspaper                69.20\n",
       "TV**2                 52946.01\n",
       "TV&radio               8697.78\n",
       "TV&newspaper          15922.92\n",
       "radio**2               1428.84\n",
       "radio&newspaper        2615.76\n",
       "newspaper **2          4788.64"
      ]
     },
     "execution_count": 75,
     "metadata": {},
     "output_type": "execute_result"
    }
   ],
   "source": [
    "df_features = pd.DataFrame(pol_features[0], index=[\"TV\", \"radio\", \"newspaper\", \"TV**2\", \"TV&radio\", \"TV&newspaper\", \"radio**2\", \\\n",
    "                                   \"radio&newspaper\", \"newspaper **2\"], columns=[\"FeaturesValue\"])\n",
    "\n",
    "df_features"
   ]
  },
  {
   "cell_type": "code",
   "execution_count": 77,
   "metadata": {},
   "outputs": [
    {
     "data": {
      "text/plain": [
       "TV                 12.605275\n",
       "radio               0.495639\n",
       "newspaper           0.751782\n",
       "TV**2              -5.863256\n",
       "TV&radio            9.397745\n",
       "TV&newspaper       -1.713998\n",
       "radio**2            0.431386\n",
       "radio&newspaper     0.458835\n",
       "newspaper **2       0.482449\n",
       "dtype: float64"
      ]
     },
     "execution_count": 77,
     "metadata": {},
     "output_type": "execute_result"
    }
   ],
   "source": [
    "# 0. gözlem değerlerimizle coef değerlerini çarpalım..\n",
    "\n",
    "y_0 = df_coef.Coef * df_features.FeaturesValue\n",
    "\n",
    "y_0"
   ]
  },
  {
   "cell_type": "code",
   "execution_count": null,
   "metadata": {},
   "outputs": [],
   "source": []
  },
  {
   "cell_type": "code",
   "execution_count": null,
   "metadata": {},
   "outputs": [],
   "source": []
  },
  {
   "cell_type": "code",
   "execution_count": null,
   "metadata": {},
   "outputs": [],
   "source": []
  }
 ],
 "metadata": {
  "kernelspec": {
   "display_name": "Python 3",
   "language": "python",
   "name": "python3"
  },
  "language_info": {
   "codemirror_mode": {
    "name": "ipython",
    "version": 3
   },
   "file_extension": ".py",
   "mimetype": "text/x-python",
   "name": "python",
   "nbconvert_exporter": "python",
   "pygments_lexer": "ipython3",
   "version": "3.8.5"
  }
 },
 "nbformat": 4,
 "nbformat_minor": 4
}
